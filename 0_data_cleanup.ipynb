{
 "cells": [
  {
   "cell_type": "markdown",
   "id": "11c54a2c-bae7-4d2f-b00c-a66f4953b082",
   "metadata": {},
   "source": [
    "# Homicidios intencionales en Ecuador\n",
    "\n",
    "This notebook includes cleaning of murder data from Ecuador from Ecuador since 2014 to may 2025, and preparation for QGIS. Original data downloaded from [here](https://datosabiertos.gob.ec/dataset/?organization=ministerio-del-interior)."
   ]
  },
  {
   "cell_type": "code",
   "execution_count": 2,
   "id": "4a3b9186-50f0-4067-912d-279db976bac7",
   "metadata": {},
   "outputs": [],
   "source": [
    "import pandas as pd\n",
    "import numpy as np\n",
    "import os"
   ]
  },
  {
   "cell_type": "code",
   "execution_count": 3,
   "id": "12d2b97e-74ee-4b8b-a934-a39adf5b03b6",
   "metadata": {},
   "outputs": [],
   "source": [
    "os.makedirs(\"data/clean_data/\", exist_ok=True)"
   ]
  },
  {
   "cell_type": "markdown",
   "id": "c1850621-226d-4b1f-b0f0-11a8e4fb44da",
   "metadata": {},
   "source": [
    "## Murders in 2025"
   ]
  },
  {
   "cell_type": "code",
   "execution_count": 4,
   "id": "71b2b280-3710-475f-a232-ab2b8dd4b30a",
   "metadata": {},
   "outputs": [],
   "source": [
    "df2025 = pd.read_excel(\"data/MDI_data/mdi_homicidios_intencionales_2025_ene_a_may.xlsx\", sheet_name=\"1\", skiprows=1, dtype=str)"
   ]
  },
  {
   "cell_type": "code",
   "execution_count": 5,
   "id": "6a72d274-1ea5-4600-b3aa-8aefaacefde4",
   "metadata": {},
   "outputs": [],
   "source": [
    "df2025 = df2025.drop(columns={\"Unnamed: 0\"})"
   ]
  },
  {
   "cell_type": "code",
   "execution_count": 6,
   "id": "dc807c60-8b94-4eb0-992d-2edb216c5521",
   "metadata": {},
   "outputs": [
    {
     "name": "stdout",
     "output_type": "stream",
     "text": [
      "<class 'pandas.core.frame.DataFrame'>\n",
      "RangeIndex: 4051 entries, 0 to 4050\n",
      "Data columns (total 33 columns):\n",
      " #   Column                    Non-Null Count  Dtype \n",
      "---  ------                    --------------  ----- \n",
      " 0   tipo_muerte               4051 non-null   object\n",
      " 1   zona                      4051 non-null   object\n",
      " 2   subzona                   4051 non-null   object\n",
      " 3   distrito                  4051 non-null   object\n",
      " 4   circuito                  4051 non-null   object\n",
      " 5   codigo_subcircuito        4051 non-null   object\n",
      " 6   subcircuito               4051 non-null   object\n",
      " 7   provincia                 4051 non-null   object\n",
      " 8   codigo_provincia          4051 non-null   object\n",
      " 9   canton                    4051 non-null   object\n",
      " 10  codigo_canton             4051 non-null   object\n",
      " 11  coordenada_y              4051 non-null   object\n",
      " 12  coordenada_x              4051 non-null   object\n",
      " 13  area_hecho                4051 non-null   object\n",
      " 14  lugar                     4051 non-null   object\n",
      " 15  tipo_lugar                4051 non-null   object\n",
      " 16  fecha_infraccion          4051 non-null   object\n",
      " 17  hora_infraccion           4051 non-null   object\n",
      " 18  arma                      4051 non-null   object\n",
      " 19  tipo_arma                 4051 non-null   object\n",
      " 20  presunta_motivacion       4051 non-null   object\n",
      " 21  presun_motiva_observada   4051 non-null   object\n",
      " 22  probable_causa_motivada   4051 non-null   object\n",
      " 23  edad                      4051 non-null   object\n",
      " 24  medida_edad               4051 non-null   object\n",
      " 25  sexo                      4051 non-null   object\n",
      " 26  genero                    4051 non-null   object\n",
      " 27  etnia                     4051 non-null   object\n",
      " 28  estado_civil              4051 non-null   object\n",
      " 29  nacionalidad              4051 non-null   object\n",
      " 30  discapacidad              4051 non-null   object\n",
      " 31  profesion_registro_civil  4051 non-null   object\n",
      " 32  instruccion               4051 non-null   object\n",
      "dtypes: object(33)\n",
      "memory usage: 1.0+ MB\n"
     ]
    }
   ],
   "source": [
    "df2025.info()"
   ]
  },
  {
   "cell_type": "code",
   "execution_count": 7,
   "id": "316ba2a8-1fd7-44c1-bdea-c845e4806497",
   "metadata": {},
   "outputs": [],
   "source": [
    "df2025[\"coordenada_x\"] = df2025[\"coordenada_x\"].str.replace(\",\", \".\")\n",
    "df2025[\"coordenada_y\"] = df2025[\"coordenada_y\"].str.replace(\",\", \".\")"
   ]
  },
  {
   "cell_type": "code",
   "execution_count": 8,
   "id": "d3b4e341-e99f-4a00-b1bc-951288994501",
   "metadata": {},
   "outputs": [
    {
     "data": {
      "text/plain": [
       "coordenada_y      -1.6485\n",
       "coordenada_x    -79.81508\n",
       "Name: 417, dtype: object"
      ]
     },
     "execution_count": 8,
     "metadata": {},
     "output_type": "execute_result"
    }
   ],
   "source": [
    "df2025.iloc[417][[\"coordenada_y\", \"coordenada_x\"]]"
   ]
  },
  {
   "cell_type": "code",
   "execution_count": 9,
   "id": "5888103d-9a9a-4b6c-9bb4-0d634d39d0e4",
   "metadata": {},
   "outputs": [
    {
     "name": "stdout",
     "output_type": "stream",
     "text": [
      "Valid latitudes: 4051 / 4051\n",
      "Valid longitudes: 4051 / 4051\n",
      "Invalid rows:\n",
      " Empty DataFrame\n",
      "Columns: [tipo_muerte, zona, subzona, distrito, circuito, codigo_subcircuito, subcircuito, provincia, codigo_provincia, canton, codigo_canton, coordenada_y, coordenada_x, area_hecho, lugar, tipo_lugar, fecha_infraccion, hora_infraccion, arma, tipo_arma, presunta_motivacion, presun_motiva_observada, probable_causa_motivada, edad, medida_edad, sexo, genero, etnia, estado_civil, nacionalidad, discapacidad, profesion_registro_civil, instruccion]\n",
      "Index: []\n",
      "\n",
      "[0 rows x 33 columns]\n"
     ]
    }
   ],
   "source": [
    "decimal_pattern = r'^-?\\d+(\\.\\d+)?$'\n",
    "\n",
    "lat_valid = df2025[\"coordenada_x\"].str.match(decimal_pattern)\n",
    "lon_valid = df2025[\"coordenada_y\"].str.match(decimal_pattern)\n",
    "\n",
    "print(\"Valid latitudes:\", lat_valid.sum(), \"/\", len(df2025))\n",
    "print(\"Valid longitudes:\", lon_valid.sum(), \"/\", len(df2025))\n",
    "print(\"Invalid rows:\\n\", df2025[~(lat_valid & lon_valid)])"
   ]
  },
  {
   "cell_type": "code",
   "execution_count": 10,
   "id": "4065bbba-8e1a-402c-99cf-ee656af464a9",
   "metadata": {},
   "outputs": [
    {
     "name": "stdout",
     "output_type": "stream",
     "text": [
      "All coordinates valid: True\n",
      "Invalid rows: 0\n"
     ]
    }
   ],
   "source": [
    "lat_float = df2025[\"coordenada_y\"].astype(float)\n",
    "lon_float = df2025[\"coordenada_x\"].astype(float)\n",
    "\n",
    "lat_min, lat_max = -5.1, 2.0\n",
    "lon_min, lon_max = -92.1, -75.0\n",
    "\n",
    "in_lat_range = lat_float.between(lat_min, lat_max)\n",
    "in_lon_range = lon_float.between(lon_min, lon_max)\n",
    "\n",
    "valid_coords = in_lat_range & in_lon_range\n",
    "\n",
    "all_valid = valid_coords.all()\n",
    "print(\"All coordinates valid:\", all_valid)\n",
    "print(\"Invalid rows:\", (~valid_coords).sum())"
   ]
  },
  {
   "cell_type": "code",
   "execution_count": 12,
   "id": "c22438d6-c229-4c1e-a4e0-5ef8e35a74fe",
   "metadata": {},
   "outputs": [],
   "source": [
    "df2025.to_csv(\"data/clean_data/clean_2025_may.csv\", index=False)"
   ]
  },
  {
   "cell_type": "markdown",
   "id": "b67c6e9c-691c-4daf-a814-ceca33b760ba",
   "metadata": {},
   "source": [
    "## Historical data on murders"
   ]
  },
  {
   "cell_type": "code",
   "execution_count": 13,
   "id": "f2f8bc7a-bcde-41ff-b837-e6d5ecef12c1",
   "metadata": {},
   "outputs": [],
   "source": [
    "df_historical = pd.read_excel(\"data/MDI_data/mdi_homicidios_intencionales_pm_2014_2024.xlsx\", sheet_name=\"1\", skiprows=1, dtype=str)"
   ]
  },
  {
   "cell_type": "code",
   "execution_count": 14,
   "id": "cc34ccca-d7b1-4df6-8d3c-3a5f2de50b88",
   "metadata": {},
   "outputs": [],
   "source": [
    "df_historical = df_historical.drop(columns={\"Unnamed: 0\"})"
   ]
  },
  {
   "cell_type": "code",
   "execution_count": 15,
   "id": "a3cad2a9-4f9b-4dfb-a370-95f11ec3b4e9",
   "metadata": {},
   "outputs": [
    {
     "name": "stdout",
     "output_type": "stream",
     "text": [
      "<class 'pandas.core.frame.DataFrame'>\n",
      "RangeIndex: 30511 entries, 0 to 30510\n",
      "Data columns (total 34 columns):\n",
      " #   Column                    Non-Null Count  Dtype \n",
      "---  ------                    --------------  ----- \n",
      " 0   tipo_muerte               30511 non-null  object\n",
      " 1   zona                      30511 non-null  object\n",
      " 2   subzona                   30511 non-null  object\n",
      " 3   distrito                  30511 non-null  object\n",
      " 4   circuito                  30511 non-null  object\n",
      " 5   codigo_subcircuito        30511 non-null  object\n",
      " 6   subcircuito               30511 non-null  object\n",
      " 7   provincia                 30511 non-null  object\n",
      " 8   codigo_provincia          30511 non-null  object\n",
      " 9   canton                    30511 non-null  object\n",
      " 10  codigo_canton             30511 non-null  object\n",
      " 11  coordenada_y              30511 non-null  object\n",
      " 12  coordenada_x              30511 non-null  object\n",
      " 13  area_hecho                30511 non-null  object\n",
      " 14  lugar                     30511 non-null  object\n",
      " 15  tipo_lugar                30511 non-null  object\n",
      " 16  fecha_infraccion          30511 non-null  object\n",
      " 17  hora_infraccion           30511 non-null  object\n",
      " 18  arma                      30511 non-null  object\n",
      " 19  tipo_arma                 30511 non-null  object\n",
      " 20  presunta_motivacion       30511 non-null  object\n",
      " 21  presun_motiva_observada   30511 non-null  object\n",
      " 22  probable_causa_motivada   30511 non-null  object\n",
      " 23  edad                      30511 non-null  object\n",
      " 24  medida_edad               30511 non-null  object\n",
      " 25  sexo                      30511 non-null  object\n",
      " 26  genero                    30511 non-null  object\n",
      " 27  etnia                     30511 non-null  object\n",
      " 28  estado_civil              30511 non-null  object\n",
      " 29  nacionalidad              30511 non-null  object\n",
      " 30  discapacidad              30511 non-null  object\n",
      " 31  profesion_registro_civil  30511 non-null  object\n",
      " 32  instruccion               30511 non-null  object\n",
      " 33  antecedentes              30511 non-null  object\n",
      "dtypes: object(34)\n",
      "memory usage: 7.9+ MB\n"
     ]
    }
   ],
   "source": [
    "df_historical.info() #this df has one more column in comparison with the previous one"
   ]
  },
  {
   "cell_type": "code",
   "execution_count": 16,
   "id": "29e012dc-2d80-49d8-8d09-13c25573a4e6",
   "metadata": {},
   "outputs": [
    {
     "data": {
      "text/html": [
       "<div>\n",
       "<style scoped>\n",
       "    .dataframe tbody tr th:only-of-type {\n",
       "        vertical-align: middle;\n",
       "    }\n",
       "\n",
       "    .dataframe tbody tr th {\n",
       "        vertical-align: top;\n",
       "    }\n",
       "\n",
       "    .dataframe thead th {\n",
       "        text-align: right;\n",
       "    }\n",
       "</style>\n",
       "<table border=\"1\" class=\"dataframe\">\n",
       "  <thead>\n",
       "    <tr style=\"text-align: right;\">\n",
       "      <th></th>\n",
       "      <th>tipo_muerte</th>\n",
       "      <th>zona</th>\n",
       "      <th>subzona</th>\n",
       "      <th>distrito</th>\n",
       "      <th>circuito</th>\n",
       "      <th>codigo_subcircuito</th>\n",
       "      <th>subcircuito</th>\n",
       "      <th>provincia</th>\n",
       "      <th>codigo_provincia</th>\n",
       "      <th>canton</th>\n",
       "      <th>...</th>\n",
       "      <th>medida_edad</th>\n",
       "      <th>sexo</th>\n",
       "      <th>genero</th>\n",
       "      <th>etnia</th>\n",
       "      <th>estado_civil</th>\n",
       "      <th>nacionalidad</th>\n",
       "      <th>discapacidad</th>\n",
       "      <th>profesion_registro_civil</th>\n",
       "      <th>instruccion</th>\n",
       "      <th>antecedentes</th>\n",
       "    </tr>\n",
       "  </thead>\n",
       "  <tbody>\n",
       "    <tr>\n",
       "      <th>0</th>\n",
       "      <td>ASESINATO</td>\n",
       "      <td>ZONA 5</td>\n",
       "      <td>SANTA ELENA</td>\n",
       "      <td>LIBERTAD SALINAS</td>\n",
       "      <td>SALINAS CENTRO</td>\n",
       "      <td>24D02C05S02</td>\n",
       "      <td>SALINAS CENTRO 2</td>\n",
       "      <td>SANTA ELENA</td>\n",
       "      <td>24</td>\n",
       "      <td>SALINAS</td>\n",
       "      <td>...</td>\n",
       "      <td>A</td>\n",
       "      <td>HOMBRE</td>\n",
       "      <td>SIN_DATO</td>\n",
       "      <td>MESTIZO/A</td>\n",
       "      <td>CASADO</td>\n",
       "      <td>ECUADOR</td>\n",
       "      <td>NINGUNA</td>\n",
       "      <td>PINTOR</td>\n",
       "      <td>BACHILLERATO</td>\n",
       "      <td>NO</td>\n",
       "    </tr>\n",
       "    <tr>\n",
       "      <th>1</th>\n",
       "      <td>ASESINATO</td>\n",
       "      <td>ZONA 5</td>\n",
       "      <td>SANTA ELENA</td>\n",
       "      <td>LIBERTAD SALINAS</td>\n",
       "      <td>SALINAS CENTRO</td>\n",
       "      <td>24D02C05S02</td>\n",
       "      <td>SALINAS CENTRO 2</td>\n",
       "      <td>SANTA ELENA</td>\n",
       "      <td>24</td>\n",
       "      <td>SALINAS</td>\n",
       "      <td>...</td>\n",
       "      <td>A</td>\n",
       "      <td>HOMBRE</td>\n",
       "      <td>SIN_DATO</td>\n",
       "      <td>MESTIZO/A</td>\n",
       "      <td>SOLTERO</td>\n",
       "      <td>ECUADOR</td>\n",
       "      <td>NINGUNA</td>\n",
       "      <td>JORNALERO</td>\n",
       "      <td>BASICA</td>\n",
       "      <td>SIN_DATO</td>\n",
       "    </tr>\n",
       "    <tr>\n",
       "      <th>2</th>\n",
       "      <td>ASESINATO</td>\n",
       "      <td>ZONA 5</td>\n",
       "      <td>SANTA ELENA</td>\n",
       "      <td>LIBERTAD SALINAS</td>\n",
       "      <td>SALINAS CENTRO</td>\n",
       "      <td>24D02C05S02</td>\n",
       "      <td>SALINAS CENTRO 2</td>\n",
       "      <td>SANTA ELENA</td>\n",
       "      <td>24</td>\n",
       "      <td>SALINAS</td>\n",
       "      <td>...</td>\n",
       "      <td>A</td>\n",
       "      <td>HOMBRE</td>\n",
       "      <td>SIN_DATO</td>\n",
       "      <td>MESTIZO/A</td>\n",
       "      <td>SOLTERO</td>\n",
       "      <td>ECUADOR</td>\n",
       "      <td>NO DETERMINADO</td>\n",
       "      <td>COMERCIANTE</td>\n",
       "      <td>BACHILLERATO</td>\n",
       "      <td>SIN_DATO</td>\n",
       "    </tr>\n",
       "    <tr>\n",
       "      <th>3</th>\n",
       "      <td>ASESINATO</td>\n",
       "      <td>ZONA 5</td>\n",
       "      <td>SANTA ELENA</td>\n",
       "      <td>LIBERTAD SALINAS</td>\n",
       "      <td>SANTA ROSA</td>\n",
       "      <td>24D02C06S03</td>\n",
       "      <td>SANTA ROSA 3</td>\n",
       "      <td>SANTA ELENA</td>\n",
       "      <td>24</td>\n",
       "      <td>SALINAS</td>\n",
       "      <td>...</td>\n",
       "      <td>A</td>\n",
       "      <td>HOMBRE</td>\n",
       "      <td>SIN_DATO</td>\n",
       "      <td>MESTIZO/A</td>\n",
       "      <td>SOLTERO</td>\n",
       "      <td>ECUADOR</td>\n",
       "      <td>NINGUNA</td>\n",
       "      <td>ESTUDIANTE</td>\n",
       "      <td>BACHILLERATO</td>\n",
       "      <td>SIN_DATO</td>\n",
       "    </tr>\n",
       "    <tr>\n",
       "      <th>4</th>\n",
       "      <td>HOMICIDIO</td>\n",
       "      <td>ZONA 5</td>\n",
       "      <td>SANTA ELENA</td>\n",
       "      <td>LIBERTAD SALINAS</td>\n",
       "      <td>SANTA ROSA</td>\n",
       "      <td>24D02C06S01</td>\n",
       "      <td>SANTA ROSA 1</td>\n",
       "      <td>SANTA ELENA</td>\n",
       "      <td>24</td>\n",
       "      <td>SALINAS</td>\n",
       "      <td>...</td>\n",
       "      <td>A</td>\n",
       "      <td>HOMBRE</td>\n",
       "      <td>SIN_DATO</td>\n",
       "      <td>MESTIZO/A</td>\n",
       "      <td>SOLTERO</td>\n",
       "      <td>ECUADOR</td>\n",
       "      <td>NINGUNA</td>\n",
       "      <td>MAQUINISTA</td>\n",
       "      <td>BASICA</td>\n",
       "      <td>SIN_DATO</td>\n",
       "    </tr>\n",
       "  </tbody>\n",
       "</table>\n",
       "<p>5 rows × 34 columns</p>\n",
       "</div>"
      ],
      "text/plain": [
       "  tipo_muerte    zona      subzona          distrito        circuito  \\\n",
       "0   ASESINATO  ZONA 5  SANTA ELENA  LIBERTAD SALINAS  SALINAS CENTRO   \n",
       "1   ASESINATO  ZONA 5  SANTA ELENA  LIBERTAD SALINAS  SALINAS CENTRO   \n",
       "2   ASESINATO  ZONA 5  SANTA ELENA  LIBERTAD SALINAS  SALINAS CENTRO   \n",
       "3   ASESINATO  ZONA 5  SANTA ELENA  LIBERTAD SALINAS      SANTA ROSA   \n",
       "4   HOMICIDIO  ZONA 5  SANTA ELENA  LIBERTAD SALINAS      SANTA ROSA   \n",
       "\n",
       "  codigo_subcircuito       subcircuito    provincia codigo_provincia   canton  \\\n",
       "0        24D02C05S02  SALINAS CENTRO 2  SANTA ELENA               24  SALINAS   \n",
       "1        24D02C05S02  SALINAS CENTRO 2  SANTA ELENA               24  SALINAS   \n",
       "2        24D02C05S02  SALINAS CENTRO 2  SANTA ELENA               24  SALINAS   \n",
       "3        24D02C06S03      SANTA ROSA 3  SANTA ELENA               24  SALINAS   \n",
       "4        24D02C06S01      SANTA ROSA 1  SANTA ELENA               24  SALINAS   \n",
       "\n",
       "   ... medida_edad    sexo    genero      etnia estado_civil nacionalidad  \\\n",
       "0  ...           A  HOMBRE  SIN_DATO  MESTIZO/A       CASADO      ECUADOR   \n",
       "1  ...           A  HOMBRE  SIN_DATO  MESTIZO/A      SOLTERO      ECUADOR   \n",
       "2  ...           A  HOMBRE  SIN_DATO  MESTIZO/A      SOLTERO      ECUADOR   \n",
       "3  ...           A  HOMBRE  SIN_DATO  MESTIZO/A      SOLTERO      ECUADOR   \n",
       "4  ...           A  HOMBRE  SIN_DATO  MESTIZO/A      SOLTERO      ECUADOR   \n",
       "\n",
       "     discapacidad profesion_registro_civil   instruccion antecedentes  \n",
       "0         NINGUNA                   PINTOR  BACHILLERATO           NO  \n",
       "1         NINGUNA                JORNALERO        BASICA     SIN_DATO  \n",
       "2  NO DETERMINADO              COMERCIANTE  BACHILLERATO     SIN_DATO  \n",
       "3         NINGUNA               ESTUDIANTE  BACHILLERATO     SIN_DATO  \n",
       "4         NINGUNA               MAQUINISTA        BASICA     SIN_DATO  \n",
       "\n",
       "[5 rows x 34 columns]"
      ]
     },
     "execution_count": 16,
     "metadata": {},
     "output_type": "execute_result"
    }
   ],
   "source": [
    "df_historical.head()"
   ]
  },
  {
   "cell_type": "code",
   "execution_count": 17,
   "id": "f9d555dd-0277-4887-b6c9-cad872a4395d",
   "metadata": {},
   "outputs": [],
   "source": [
    "df_historical[\"fecha_infraccion\"] = pd.to_datetime(df_historical[\"fecha_infraccion\"], errors=\"coerce\")"
   ]
  },
  {
   "cell_type": "code",
   "execution_count": 18,
   "id": "5ee0c13e-2164-4fa5-b25e-63a89601f193",
   "metadata": {},
   "outputs": [],
   "source": [
    "df_2324 = df_historical[df_historical[\"fecha_infraccion\"].dt.year.isin([2023, 2024])]"
   ]
  },
  {
   "cell_type": "code",
   "execution_count": 19,
   "id": "7f0c34c5-8389-457a-9aad-50925cf1da32",
   "metadata": {},
   "outputs": [
    {
     "data": {
      "text/plain": [
       "15284"
      ]
     },
     "execution_count": 19,
     "metadata": {},
     "output_type": "execute_result"
    }
   ],
   "source": [
    "len(df_2324)"
   ]
  },
  {
   "cell_type": "code",
   "execution_count": 20,
   "id": "1397ae72-a3e2-45be-a61f-bc916cc4bee0",
   "metadata": {},
   "outputs": [
    {
     "data": {
      "text/html": [
       "<div>\n",
       "<style scoped>\n",
       "    .dataframe tbody tr th:only-of-type {\n",
       "        vertical-align: middle;\n",
       "    }\n",
       "\n",
       "    .dataframe tbody tr th {\n",
       "        vertical-align: top;\n",
       "    }\n",
       "\n",
       "    .dataframe thead th {\n",
       "        text-align: right;\n",
       "    }\n",
       "</style>\n",
       "<table border=\"1\" class=\"dataframe\">\n",
       "  <thead>\n",
       "    <tr style=\"text-align: right;\">\n",
       "      <th></th>\n",
       "      <th>coordenada_x</th>\n",
       "      <th>coordenada_y</th>\n",
       "    </tr>\n",
       "  </thead>\n",
       "  <tbody>\n",
       "    <tr>\n",
       "      <th>10715</th>\n",
       "      <td>-79.92582</td>\n",
       "      <td>-2.20022</td>\n",
       "    </tr>\n",
       "    <tr>\n",
       "      <th>19284</th>\n",
       "      <td>-7688714</td>\n",
       "      <td>0.09137</td>\n",
       "    </tr>\n",
       "    <tr>\n",
       "      <th>9580</th>\n",
       "      <td>-7995338</td>\n",
       "      <td>-325979</td>\n",
       "    </tr>\n",
       "    <tr>\n",
       "      <th>8998</th>\n",
       "      <td>-79.96852</td>\n",
       "      <td>-2.10025</td>\n",
       "    </tr>\n",
       "    <tr>\n",
       "      <th>15432</th>\n",
       "      <td>-79.58823</td>\n",
       "      <td>-2.14853</td>\n",
       "    </tr>\n",
       "    <tr>\n",
       "      <th>10676</th>\n",
       "      <td>-7992643</td>\n",
       "      <td>-221563</td>\n",
       "    </tr>\n",
       "    <tr>\n",
       "      <th>19949</th>\n",
       "      <td>-799491</td>\n",
       "      <td>-211454</td>\n",
       "    </tr>\n",
       "    <tr>\n",
       "      <th>10965</th>\n",
       "      <td>-79.92073</td>\n",
       "      <td>-2.23788</td>\n",
       "    </tr>\n",
       "    <tr>\n",
       "      <th>12153</th>\n",
       "      <td>-7988848</td>\n",
       "      <td>-225459</td>\n",
       "    </tr>\n",
       "    <tr>\n",
       "      <th>16739</th>\n",
       "      <td>-7946329</td>\n",
       "      <td>-217908</td>\n",
       "    </tr>\n",
       "    <tr>\n",
       "      <th>8271</th>\n",
       "      <td>-79.99492</td>\n",
       "      <td>-2.12577</td>\n",
       "    </tr>\n",
       "    <tr>\n",
       "      <th>20838</th>\n",
       "      <td>-786259</td>\n",
       "      <td>-123326</td>\n",
       "    </tr>\n",
       "    <tr>\n",
       "      <th>15975</th>\n",
       "      <td>-7952826</td>\n",
       "      <td>-180396</td>\n",
       "    </tr>\n",
       "    <tr>\n",
       "      <th>13342</th>\n",
       "      <td>-7982301</td>\n",
       "      <td>-215031</td>\n",
       "    </tr>\n",
       "    <tr>\n",
       "      <th>14544</th>\n",
       "      <td>-79.68722</td>\n",
       "      <td>0.91128</td>\n",
       "    </tr>\n",
       "    <tr>\n",
       "      <th>18502</th>\n",
       "      <td>-7853258</td>\n",
       "      <td>-0.23808</td>\n",
       "    </tr>\n",
       "    <tr>\n",
       "      <th>8733</th>\n",
       "      <td>-79.97453</td>\n",
       "      <td>-2.10092</td>\n",
       "    </tr>\n",
       "    <tr>\n",
       "      <th>5763</th>\n",
       "      <td>-80.77671</td>\n",
       "      <td>-2.14053</td>\n",
       "    </tr>\n",
       "    <tr>\n",
       "      <th>10804</th>\n",
       "      <td>-79.92432</td>\n",
       "      <td>-2.12171</td>\n",
       "    </tr>\n",
       "    <tr>\n",
       "      <th>14654</th>\n",
       "      <td>-79.66593</td>\n",
       "      <td>-1.10831</td>\n",
       "    </tr>\n",
       "  </tbody>\n",
       "</table>\n",
       "</div>"
      ],
      "text/plain": [
       "      coordenada_x coordenada_y\n",
       "10715    -79.92582     -2.20022\n",
       "19284     -7688714      0.09137\n",
       "9580      -7995338      -325979\n",
       "8998     -79.96852     -2.10025\n",
       "15432    -79.58823     -2.14853\n",
       "10676     -7992643      -221563\n",
       "19949      -799491      -211454\n",
       "10965    -79.92073     -2.23788\n",
       "12153     -7988848      -225459\n",
       "16739     -7946329      -217908\n",
       "8271     -79.99492     -2.12577\n",
       "20838      -786259      -123326\n",
       "15975     -7952826      -180396\n",
       "13342     -7982301      -215031\n",
       "14544    -79.68722      0.91128\n",
       "18502     -7853258     -0.23808\n",
       "8733     -79.97453     -2.10092\n",
       "5763     -80.77671     -2.14053\n",
       "10804    -79.92432     -2.12171\n",
       "14654    -79.66593     -1.10831"
      ]
     },
     "execution_count": 20,
     "metadata": {},
     "output_type": "execute_result"
    }
   ],
   "source": [
    "sample = df_2324[[\"coordenada_x\", \"coordenada_y\"]].sample(20, random_state=1)\n",
    "sample"
   ]
  },
  {
   "cell_type": "code",
   "execution_count": 21,
   "id": "6b17c132-f3ad-41e4-9e3e-f2b93b2b0692",
   "metadata": {},
   "outputs": [
    {
     "name": "stdout",
     "output_type": "stream",
     "text": [
      "En x, hay 7028 valores sin puntos y 8256 valores con puntos. Suma = 15284\n",
      "En y, hay 5419 valores sin puntos y 9865 valores con puntos. Suma = 15284\n",
      "El len de la df es 15284\n"
     ]
    }
   ],
   "source": [
    "#Check if the missing decimal separator is the problem\n",
    "y_sin_puntos = len(df_2324[~df_2324[\"coordenada_y\"].str.contains(r\"\\.\")])\n",
    "y_puntos = len(df_2324[df_2324[\"coordenada_y\"].str.contains(r\"\\.\")][\"coordenada_y\"])\n",
    "x_sin_puntos = len(df_2324[~df_2324[\"coordenada_x\"].str.contains(r\"\\.\")][\"coordenada_x\"])\n",
    "x_puntos = len(df_2324[df_2324[\"coordenada_x\"].str.contains(r\"\\.\")][\"coordenada_x\"])\n",
    "\n",
    "print(f\"En x, hay {x_sin_puntos} valores sin puntos y {x_puntos} valores con puntos. Suma = {x_sin_puntos+x_puntos}\")\n",
    "print(f\"En y, hay {y_sin_puntos} valores sin puntos y {y_puntos} valores con puntos. Suma = {y_sin_puntos+y_puntos}\")\n",
    "print(f\"El len de la df es {len(df_2324)}\")"
   ]
  },
  {
   "cell_type": "code",
   "execution_count": 22,
   "id": "b0918506-40d5-42cd-b7d9-c1f38002a5ef",
   "metadata": {},
   "outputs": [
    {
     "name": "stdout",
     "output_type": "stream",
     "text": [
      "All coordinates valid: False\n",
      "Invalid rows: 7036\n"
     ]
    }
   ],
   "source": [
    "lat_float = df_2324[\"coordenada_y\"].astype(float)\n",
    "lon_float = df_2324[\"coordenada_x\"].astype(float)\n",
    "\n",
    "lat_min, lat_max = -5.1, 2.0\n",
    "lon_min, lon_max = -92.1, -75.0\n",
    "\n",
    "in_lat_range = lat_float.between(lat_min, lat_max)\n",
    "in_lon_range = lon_float.between(lon_min, lon_max)\n",
    "\n",
    "valid_coords = in_lat_range & in_lon_range\n",
    "\n",
    "all_valid = valid_coords.all()\n",
    "print(\"All coordinates valid:\", all_valid)\n",
    "print(\"Invalid rows:\", (~valid_coords).sum())"
   ]
  },
  {
   "cell_type": "code",
   "execution_count": 23,
   "id": "7c864a63-13d2-41ac-8378-1648e1be3b45",
   "metadata": {},
   "outputs": [],
   "source": [
    "def fix_lat(s):\n",
    "    s = str(s).strip()\n",
    "    if \".\" in s:\n",
    "        return s\n",
    "    sign = ''\n",
    "    if s.startswith('-'):\n",
    "        sign = '-'\n",
    "        s = s[1:]\n",
    "    if len(s) == 0:\n",
    "        return s\n",
    "    return sign + s[0] + '.' + s[1:]\n",
    "\n",
    "mask = ~df_2324[\"coordenada_y\"].astype(str).str.contains(r\"\\.\", na=False)\n",
    "df_2324.loc[mask, \"coordenada_y\"] = df_2324.loc[mask, \"coordenada_y\"].apply(fix_lat)"
   ]
  },
  {
   "cell_type": "code",
   "execution_count": 24,
   "id": "bc62e2e9-65af-43c2-9ba6-310d45ca5c03",
   "metadata": {},
   "outputs": [],
   "source": [
    "def fix_lon(s):\n",
    "    if pd.isna(s):\n",
    "        return s\n",
    "    s = str(s).strip()\n",
    "    if \".\" in s:\n",
    "        return s\n",
    "    s = s.lstrip(\"+-\")  # Remove any sign\n",
    "    if len(s) < 3:\n",
    "        return None\n",
    "    return '-' + s[:2] + '.' + s[2:]\n",
    "\n",
    "mask = ~df_2324[\"coordenada_x\"].astype(str).str.contains(r\"\\.\", na=False)\n",
    "df_2324.loc[mask, \"coordenada_x\"] = df_2324.loc[mask, \"coordenada_x\"].apply(fix_lon)"
   ]
  },
  {
   "cell_type": "code",
   "execution_count": 25,
   "id": "87d4c98a-f64e-4750-a8fb-09a4d90b9c95",
   "metadata": {},
   "outputs": [
    {
     "name": "stdout",
     "output_type": "stream",
     "text": [
      "All coordinates valid: False\n",
      "Invalid rows: 1\n"
     ]
    }
   ],
   "source": [
    "lat_float = df_2324[\"coordenada_y\"].astype(float)\n",
    "lon_float = df_2324[\"coordenada_x\"].astype(float)\n",
    "\n",
    "lat_min, lat_max = -5.1, 2.0\n",
    "lon_min, lon_max = -92.1, -75.0\n",
    "\n",
    "in_lat_range = lat_float.between(lat_min, lat_max)\n",
    "in_lon_range = lon_float.between(lon_min, lon_max)\n",
    "\n",
    "valid_coords = in_lat_range & in_lon_range\n",
    "\n",
    "all_valid = valid_coords.all()\n",
    "print(\"All coordinates valid:\", all_valid)\n",
    "print(\"Invalid rows:\", (~valid_coords).sum())"
   ]
  },
  {
   "cell_type": "code",
   "execution_count": 26,
   "id": "a106a756-d7d9-416c-8afe-8f3f0b575853",
   "metadata": {},
   "outputs": [
    {
     "data": {
      "text/html": [
       "<div>\n",
       "<style scoped>\n",
       "    .dataframe tbody tr th:only-of-type {\n",
       "        vertical-align: middle;\n",
       "    }\n",
       "\n",
       "    .dataframe tbody tr th {\n",
       "        vertical-align: top;\n",
       "    }\n",
       "\n",
       "    .dataframe thead th {\n",
       "        text-align: right;\n",
       "    }\n",
       "</style>\n",
       "<table border=\"1\" class=\"dataframe\">\n",
       "  <thead>\n",
       "    <tr style=\"text-align: right;\">\n",
       "      <th></th>\n",
       "      <th>coordenada_x</th>\n",
       "      <th>coordenada_y</th>\n",
       "    </tr>\n",
       "  </thead>\n",
       "  <tbody>\n",
       "    <tr>\n",
       "      <th>21156</th>\n",
       "      <td>None</td>\n",
       "      <td>0.</td>\n",
       "    </tr>\n",
       "  </tbody>\n",
       "</table>\n",
       "</div>"
      ],
      "text/plain": [
       "      coordenada_x coordenada_y\n",
       "21156         None           0."
      ]
     },
     "execution_count": 26,
     "metadata": {},
     "output_type": "execute_result"
    }
   ],
   "source": [
    "df_2324[~df_2324[\"coordenada_x\"].astype(float).between(lon_min, lon_max)][[\"coordenada_x\", \"coordenada_y\"]]"
   ]
  },
  {
   "cell_type": "code",
   "execution_count": 27,
   "id": "192036c5-cc49-46cb-bef2-a1f684aa78f1",
   "metadata": {},
   "outputs": [],
   "source": [
    "row_idx = 21156\n",
    "df_2324.loc[row_idx, \"coordenada_x\"] = np.nan\n",
    "df_2324.loc[row_idx, \"coordenada_y\"] = np.nan"
   ]
  },
  {
   "cell_type": "code",
   "execution_count": 28,
   "id": "67c89fc3-c1af-43b8-8a10-d6613de8afc8",
   "metadata": {},
   "outputs": [
    {
     "data": {
      "text/html": [
       "<div>\n",
       "<style scoped>\n",
       "    .dataframe tbody tr th:only-of-type {\n",
       "        vertical-align: middle;\n",
       "    }\n",
       "\n",
       "    .dataframe tbody tr th {\n",
       "        vertical-align: top;\n",
       "    }\n",
       "\n",
       "    .dataframe thead th {\n",
       "        text-align: right;\n",
       "    }\n",
       "</style>\n",
       "<table border=\"1\" class=\"dataframe\">\n",
       "  <thead>\n",
       "    <tr style=\"text-align: right;\">\n",
       "      <th></th>\n",
       "      <th>coordenada_x</th>\n",
       "      <th>coordenada_y</th>\n",
       "    </tr>\n",
       "  </thead>\n",
       "  <tbody>\n",
       "    <tr>\n",
       "      <th>20725</th>\n",
       "      <td>-79.3854</td>\n",
       "      <td>-4.e-04</td>\n",
       "    </tr>\n",
       "  </tbody>\n",
       "</table>\n",
       "</div>"
      ],
      "text/plain": [
       "      coordenada_x coordenada_y\n",
       "20725     -79.3854      -4.e-04"
      ]
     },
     "execution_count": 28,
     "metadata": {},
     "output_type": "execute_result"
    }
   ],
   "source": [
    "df_2324[df_2324[\"coordenada_y\"].str.contains(\"e\", na=False)][[\"coordenada_x\", \"coordenada_y\"]]"
   ]
  },
  {
   "cell_type": "code",
   "execution_count": 29,
   "id": "7b9c7d9d-0b15-4c41-a1d7-ee1c64023db8",
   "metadata": {},
   "outputs": [],
   "source": [
    "row_idx = 20725\n",
    "df_2324.loc[row_idx, \"coordenada_y\"] = \"-0.0004\""
   ]
  },
  {
   "cell_type": "code",
   "execution_count": 30,
   "id": "e8a7a183-961e-4287-9f34-ff6f9adeaf18",
   "metadata": {},
   "outputs": [],
   "source": [
    "df_2324.to_csv(\"data/clean_data/clean_2023-2024.csv\", index=False)"
   ]
  },
  {
   "cell_type": "markdown",
   "id": "537ce5c4-e256-4615-8e98-835c74a9a14d",
   "metadata": {},
   "source": [
    "## Merge both dfs"
   ]
  },
  {
   "cell_type": "code",
   "execution_count": 29,
   "id": "c72c5f4c-343d-46f6-9b6a-2b1611ec1482",
   "metadata": {},
   "outputs": [],
   "source": [
    "df_combined = pd.concat([df_2324, df2025], ignore_index=True)"
   ]
  },
  {
   "cell_type": "code",
   "execution_count": 30,
   "id": "602409c6-8766-4b77-80a3-2f2a31f3bec5",
   "metadata": {},
   "outputs": [
    {
     "name": "stdout",
     "output_type": "stream",
     "text": [
      "All coordinates valid: False\n",
      "Invalid rows: 1\n"
     ]
    }
   ],
   "source": [
    "lat_float = df_combined[\"coordenada_y\"].astype(float)\n",
    "lon_float = df_combined[\"coordenada_x\"].astype(float)\n",
    "\n",
    "lat_min, lat_max = -5.1, 2.0\n",
    "lon_min, lon_max = -92.1, -75.0\n",
    "\n",
    "in_lat_range = lat_float.between(lat_min, lat_max)\n",
    "in_lon_range = lon_float.between(lon_min, lon_max)\n",
    "\n",
    "valid_coords = in_lat_range & in_lon_range\n",
    "\n",
    "all_valid = valid_coords.all()\n",
    "print(\"All coordinates valid:\", all_valid)\n",
    "print(\"Invalid rows:\", (~valid_coords).sum())"
   ]
  },
  {
   "cell_type": "code",
   "execution_count": 31,
   "id": "28c299f6-2cd3-418b-9b4c-7c3ccefc1673",
   "metadata": {},
   "outputs": [
    {
     "data": {
      "text/html": [
       "<div>\n",
       "<style scoped>\n",
       "    .dataframe tbody tr th:only-of-type {\n",
       "        vertical-align: middle;\n",
       "    }\n",
       "\n",
       "    .dataframe tbody tr th {\n",
       "        vertical-align: top;\n",
       "    }\n",
       "\n",
       "    .dataframe thead th {\n",
       "        text-align: right;\n",
       "    }\n",
       "</style>\n",
       "<table border=\"1\" class=\"dataframe\">\n",
       "  <thead>\n",
       "    <tr style=\"text-align: right;\">\n",
       "      <th></th>\n",
       "      <th>coordenada_x</th>\n",
       "      <th>coordenada_y</th>\n",
       "    </tr>\n",
       "  </thead>\n",
       "  <tbody>\n",
       "    <tr>\n",
       "      <th>6595</th>\n",
       "      <td>-79.89138</td>\n",
       "      <td>-2.24728</td>\n",
       "    </tr>\n",
       "    <tr>\n",
       "      <th>2563</th>\n",
       "      <td>-80.05879</td>\n",
       "      <td>0.06882</td>\n",
       "    </tr>\n",
       "    <tr>\n",
       "      <th>343</th>\n",
       "      <td>-80.84158</td>\n",
       "      <td>-0.97884</td>\n",
       "    </tr>\n",
       "    <tr>\n",
       "      <th>3894</th>\n",
       "      <td>-79.96048</td>\n",
       "      <td>-2.09608</td>\n",
       "    </tr>\n",
       "    <tr>\n",
       "      <th>18062</th>\n",
       "      <td>-79.5331</td>\n",
       "      <td>-1.80753</td>\n",
       "    </tr>\n",
       "    <tr>\n",
       "      <th>17608</th>\n",
       "      <td>-79.69679</td>\n",
       "      <td>-3.07801</td>\n",
       "    </tr>\n",
       "    <tr>\n",
       "      <th>15213</th>\n",
       "      <td>-79.653</td>\n",
       "      <td>0.97058</td>\n",
       "    </tr>\n",
       "    <tr>\n",
       "      <th>12268</th>\n",
       "      <td>-79.18938</td>\n",
       "      <td>-0.24421</td>\n",
       "    </tr>\n",
       "    <tr>\n",
       "      <th>15992</th>\n",
       "      <td>-80.70564</td>\n",
       "      <td>-0.95562</td>\n",
       "    </tr>\n",
       "    <tr>\n",
       "      <th>9316</th>\n",
       "      <td>-79.65262</td>\n",
       "      <td>0.97263</td>\n",
       "    </tr>\n",
       "    <tr>\n",
       "      <th>7191</th>\n",
       "      <td>-79.87364</td>\n",
       "      <td>-2.28223</td>\n",
       "    </tr>\n",
       "    <tr>\n",
       "      <th>10296</th>\n",
       "      <td>-79.53838</td>\n",
       "      <td>-1.79729</td>\n",
       "    </tr>\n",
       "    <tr>\n",
       "      <th>287</th>\n",
       "      <td>-80.88523</td>\n",
       "      <td>-2.24281</td>\n",
       "    </tr>\n",
       "    <tr>\n",
       "      <th>8307</th>\n",
       "      <td>-79.80141</td>\n",
       "      <td>-2.15548</td>\n",
       "    </tr>\n",
       "    <tr>\n",
       "      <th>12937</th>\n",
       "      <td>-78.50603</td>\n",
       "      <td>-1.43501</td>\n",
       "    </tr>\n",
       "    <tr>\n",
       "      <th>15367</th>\n",
       "      <td>-79.95852</td>\n",
       "      <td>-2.1224</td>\n",
       "    </tr>\n",
       "    <tr>\n",
       "      <th>8369</th>\n",
       "      <td>-79.79727</td>\n",
       "      <td>-3.33077</td>\n",
       "    </tr>\n",
       "    <tr>\n",
       "      <th>16580</th>\n",
       "      <td>-79.67549</td>\n",
       "      <td>-2.72974</td>\n",
       "    </tr>\n",
       "    <tr>\n",
       "      <th>17201</th>\n",
       "      <td>-79.98265</td>\n",
       "      <td>-2.13111</td>\n",
       "    </tr>\n",
       "    <tr>\n",
       "      <th>506</th>\n",
       "      <td>-80.72719</td>\n",
       "      <td>-0.94858</td>\n",
       "    </tr>\n",
       "  </tbody>\n",
       "</table>\n",
       "</div>"
      ],
      "text/plain": [
       "      coordenada_x coordenada_y\n",
       "6595     -79.89138     -2.24728\n",
       "2563     -80.05879      0.06882\n",
       "343      -80.84158     -0.97884\n",
       "3894     -79.96048     -2.09608\n",
       "18062     -79.5331     -1.80753\n",
       "17608    -79.69679     -3.07801\n",
       "15213      -79.653      0.97058\n",
       "12268    -79.18938     -0.24421\n",
       "15992    -80.70564     -0.95562\n",
       "9316     -79.65262      0.97263\n",
       "7191     -79.87364     -2.28223\n",
       "10296    -79.53838     -1.79729\n",
       "287      -80.88523     -2.24281\n",
       "8307     -79.80141     -2.15548\n",
       "12937    -78.50603     -1.43501\n",
       "15367    -79.95852      -2.1224\n",
       "8369     -79.79727     -3.33077\n",
       "16580    -79.67549     -2.72974\n",
       "17201    -79.98265     -2.13111\n",
       "506      -80.72719     -0.94858"
      ]
     },
     "execution_count": 31,
     "metadata": {},
     "output_type": "execute_result"
    }
   ],
   "source": [
    "# Just a quick check of coordinates\n",
    "sample = df_combined[[\"coordenada_x\", \"coordenada_y\"]].sample(20, random_state=1)\n",
    "sample"
   ]
  },
  {
   "cell_type": "code",
   "execution_count": 32,
   "id": "d67777ec-66c0-4431-b55f-16465badd42a",
   "metadata": {},
   "outputs": [
    {
     "data": {
      "text/plain": [
       "tipo_muerte                                ASESINATO\n",
       "zona                                          ZONA 8\n",
       "subzona                               D.M. GUAYAQUIL\n",
       "distrito                            NUEVA PROSPERINA\n",
       "circuito                            NUEVA PROSPERINA\n",
       "codigo_subcircuito                       09D08C01S02\n",
       "subcircuito                       NUEVA PROSPERINA 2\n",
       "provincia                                     GUAYAS\n",
       "codigo_provincia                                  09\n",
       "canton                                     GUAYAQUIL\n",
       "codigo_canton                                   0901\n",
       "coordenada_y                                 -2.1224\n",
       "coordenada_x                               -79.95852\n",
       "area_hecho                                    URBANO\n",
       "lugar                                    VIA PUBLICA\n",
       "tipo_lugar                                   PUBLICO\n",
       "fecha_infraccion                 2025-01-05 00:00:00\n",
       "hora_infraccion                             09:00:00\n",
       "arma                                   ARMA DE FUEGO\n",
       "tipo_arma                                    PISTOLA\n",
       "presunta_motivacion               DELINCUENCIA COMUN\n",
       "presun_motiva_observada                      AMENAZA\n",
       "probable_causa_motivada     HERIDA POR ARMA DE FUEGO\n",
       "edad                                        SIN_DATO\n",
       "medida_edad                                 SIN_DATO\n",
       "sexo                                          HOMBRE\n",
       "genero                                     MASCULINO\n",
       "etnia                                 NO DETERMINADO\n",
       "estado_civil                          NO DETERMINADO\n",
       "nacionalidad                                   OTROS\n",
       "discapacidad                                 NINGUNA\n",
       "profesion_registro_civil                    SIN_DATO\n",
       "instruccion                                 SIN_DATO\n",
       "antecedentes                                     NaN\n",
       "Name: 15367, dtype: object"
      ]
     },
     "execution_count": 32,
     "metadata": {},
     "output_type": "execute_result"
    }
   ],
   "source": [
    "df_combined.loc[15367]"
   ]
  },
  {
   "cell_type": "code",
   "execution_count": 33,
   "id": "163a51df-d691-4d68-aa24-b9e95726f10a",
   "metadata": {},
   "outputs": [],
   "source": [
    "df_combined.to_csv(\"clean_data/complete_data.csv\", index=False)"
   ]
  }
 ],
 "metadata": {
  "kernelspec": {
   "display_name": "Python 3 (ipykernel)",
   "language": "python",
   "name": "python3"
  },
  "language_info": {
   "codemirror_mode": {
    "name": "ipython",
    "version": 3
   },
   "file_extension": ".py",
   "mimetype": "text/x-python",
   "name": "python",
   "nbconvert_exporter": "python",
   "pygments_lexer": "ipython3",
   "version": "3.12.10"
  }
 },
 "nbformat": 4,
 "nbformat_minor": 5
}
