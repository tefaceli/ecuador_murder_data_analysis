{
 "cells": [
  {
   "cell_type": "markdown",
   "id": "8b1a51bb-3843-42c3-a00c-cedf0f01bf18",
   "metadata": {},
   "source": [
    "# Analysis of the data\n",
    "\n",
    "This notebook will analyze the data of murders in Ecuador between January 1, 2023 and May 31, 2025. It will include a data analysis and a geographical analysis of data."
   ]
  },
  {
   "cell_type": "code",
   "execution_count": 1,
   "id": "7a0b5695-c377-4282-9a16-69c8ec42264f",
   "metadata": {},
   "outputs": [],
   "source": [
    "import pandas as pd\n",
    "from shapely.geometry import Point\n",
    "import geopandas as gpd\n",
    "import os\n",
    "import matplotlib.pyplot as plt"
   ]
  },
  {
   "cell_type": "code",
   "execution_count": 2,
   "id": "af1b003d-af1d-47d1-93db-918f53d9ccee",
   "metadata": {},
   "outputs": [
    {
     "name": "stderr",
     "output_type": "stream",
     "text": [
      "/var/folders/g1/ld0klj_s7bxf96phwdd6v4t80000gn/T/ipykernel_10250/3262744785.py:1: DtypeWarning: Columns (33) have mixed types. Specify dtype option on import or set low_memory=False.\n",
      "  df = pd.read_csv(\"data/clean_data/complete_data.csv\")\n"
     ]
    }
   ],
   "source": [
    "df = pd.read_csv(\"data/clean_data/complete_data.csv\")"
   ]
  },
  {
   "cell_type": "code",
   "execution_count": 3,
   "id": "9458320d-4e4f-435a-a3eb-fe5723dcc1ef",
   "metadata": {},
   "outputs": [
    {
     "name": "stdout",
     "output_type": "stream",
     "text": [
      "<class 'pandas.core.frame.DataFrame'>\n",
      "RangeIndex: 19335 entries, 0 to 19334\n",
      "Data columns (total 34 columns):\n",
      " #   Column                    Non-Null Count  Dtype  \n",
      "---  ------                    --------------  -----  \n",
      " 0   tipo_muerte               19335 non-null  object \n",
      " 1   zona                      19335 non-null  object \n",
      " 2   subzona                   19335 non-null  object \n",
      " 3   distrito                  19335 non-null  object \n",
      " 4   circuito                  19335 non-null  object \n",
      " 5   codigo_subcircuito        19335 non-null  object \n",
      " 6   subcircuito               19335 non-null  object \n",
      " 7   provincia                 19335 non-null  object \n",
      " 8   codigo_provincia          19335 non-null  int64  \n",
      " 9   canton                    19335 non-null  object \n",
      " 10  codigo_canton             19335 non-null  int64  \n",
      " 11  coordenada_y              19334 non-null  float64\n",
      " 12  coordenada_x              19334 non-null  float64\n",
      " 13  area_hecho                19335 non-null  object \n",
      " 14  lugar                     19335 non-null  object \n",
      " 15  tipo_lugar                19335 non-null  object \n",
      " 16  fecha_infraccion          19335 non-null  object \n",
      " 17  hora_infraccion           19335 non-null  object \n",
      " 18  arma                      19335 non-null  object \n",
      " 19  tipo_arma                 19335 non-null  object \n",
      " 20  presunta_motivacion       19335 non-null  object \n",
      " 21  presun_motiva_observada   19335 non-null  object \n",
      " 22  probable_causa_motivada   19335 non-null  object \n",
      " 23  edad                      19335 non-null  object \n",
      " 24  medida_edad               19335 non-null  object \n",
      " 25  sexo                      19335 non-null  object \n",
      " 26  genero                    19335 non-null  object \n",
      " 27  etnia                     19335 non-null  object \n",
      " 28  estado_civil              19335 non-null  object \n",
      " 29  nacionalidad              19335 non-null  object \n",
      " 30  discapacidad              19335 non-null  object \n",
      " 31  profesion_registro_civil  19335 non-null  object \n",
      " 32  instruccion               19335 non-null  object \n",
      " 33  antecedentes              15284 non-null  object \n",
      "dtypes: float64(2), int64(2), object(30)\n",
      "memory usage: 5.0+ MB\n"
     ]
    }
   ],
   "source": [
    "df.info()"
   ]
  },
  {
   "cell_type": "code",
   "execution_count": 4,
   "id": "5855b7a3-294e-4102-a001-6745af76ea03",
   "metadata": {},
   "outputs": [
    {
     "data": {
      "text/html": [
       "<div>\n",
       "<style scoped>\n",
       "    .dataframe tbody tr th:only-of-type {\n",
       "        vertical-align: middle;\n",
       "    }\n",
       "\n",
       "    .dataframe tbody tr th {\n",
       "        vertical-align: top;\n",
       "    }\n",
       "\n",
       "    .dataframe thead th {\n",
       "        text-align: right;\n",
       "    }\n",
       "</style>\n",
       "<table border=\"1\" class=\"dataframe\">\n",
       "  <thead>\n",
       "    <tr style=\"text-align: right;\">\n",
       "      <th></th>\n",
       "      <th>15271</th>\n",
       "    </tr>\n",
       "  </thead>\n",
       "  <tbody>\n",
       "    <tr>\n",
       "      <th>tipo_muerte</th>\n",
       "      <td>ASESINATO</td>\n",
       "    </tr>\n",
       "    <tr>\n",
       "      <th>zona</th>\n",
       "      <td>ZONA 4</td>\n",
       "    </tr>\n",
       "    <tr>\n",
       "      <th>subzona</th>\n",
       "      <td>MANABI</td>\n",
       "    </tr>\n",
       "    <tr>\n",
       "      <th>distrito</th>\n",
       "      <td>EL CARMEN</td>\n",
       "    </tr>\n",
       "    <tr>\n",
       "      <th>circuito</th>\n",
       "      <td>EL CARMEN</td>\n",
       "    </tr>\n",
       "    <tr>\n",
       "      <th>codigo_subcircuito</th>\n",
       "      <td>13D05C03S02</td>\n",
       "    </tr>\n",
       "    <tr>\n",
       "      <th>subcircuito</th>\n",
       "      <td>EL CARMEN 2</td>\n",
       "    </tr>\n",
       "    <tr>\n",
       "      <th>provincia</th>\n",
       "      <td>MANABI</td>\n",
       "    </tr>\n",
       "    <tr>\n",
       "      <th>codigo_provincia</th>\n",
       "      <td>13</td>\n",
       "    </tr>\n",
       "    <tr>\n",
       "      <th>canton</th>\n",
       "      <td>EL CARMEN</td>\n",
       "    </tr>\n",
       "    <tr>\n",
       "      <th>codigo_canton</th>\n",
       "      <td>1304</td>\n",
       "    </tr>\n",
       "    <tr>\n",
       "      <th>coordenada_y</th>\n",
       "      <td>NaN</td>\n",
       "    </tr>\n",
       "    <tr>\n",
       "      <th>coordenada_x</th>\n",
       "      <td>NaN</td>\n",
       "    </tr>\n",
       "    <tr>\n",
       "      <th>area_hecho</th>\n",
       "      <td>URBANO</td>\n",
       "    </tr>\n",
       "    <tr>\n",
       "      <th>lugar</th>\n",
       "      <td>PARQUES Y PLAZAS</td>\n",
       "    </tr>\n",
       "    <tr>\n",
       "      <th>tipo_lugar</th>\n",
       "      <td>PUBLICO</td>\n",
       "    </tr>\n",
       "    <tr>\n",
       "      <th>fecha_infraccion</th>\n",
       "      <td>2024-10-07 00:00:00</td>\n",
       "    </tr>\n",
       "    <tr>\n",
       "      <th>hora_infraccion</th>\n",
       "      <td>21:20:00</td>\n",
       "    </tr>\n",
       "    <tr>\n",
       "      <th>arma</th>\n",
       "      <td>ARMA DE FUEGO</td>\n",
       "    </tr>\n",
       "    <tr>\n",
       "      <th>tipo_arma</th>\n",
       "      <td>PISTOLA</td>\n",
       "    </tr>\n",
       "    <tr>\n",
       "      <th>presunta_motivacion</th>\n",
       "      <td>DELINCUENCIA COMUN</td>\n",
       "    </tr>\n",
       "    <tr>\n",
       "      <th>presun_motiva_observada</th>\n",
       "      <td>AMENAZA</td>\n",
       "    </tr>\n",
       "    <tr>\n",
       "      <th>probable_causa_motivada</th>\n",
       "      <td>HERIDA POR ARMA DE FUEGO</td>\n",
       "    </tr>\n",
       "    <tr>\n",
       "      <th>edad</th>\n",
       "      <td>27</td>\n",
       "    </tr>\n",
       "    <tr>\n",
       "      <th>medida_edad</th>\n",
       "      <td>A</td>\n",
       "    </tr>\n",
       "    <tr>\n",
       "      <th>sexo</th>\n",
       "      <td>HOMBRE</td>\n",
       "    </tr>\n",
       "    <tr>\n",
       "      <th>genero</th>\n",
       "      <td>MASCULINO</td>\n",
       "    </tr>\n",
       "    <tr>\n",
       "      <th>etnia</th>\n",
       "      <td>MESTIZO/A</td>\n",
       "    </tr>\n",
       "    <tr>\n",
       "      <th>estado_civil</th>\n",
       "      <td>SOLTERO</td>\n",
       "    </tr>\n",
       "    <tr>\n",
       "      <th>nacionalidad</th>\n",
       "      <td>ECUADOR</td>\n",
       "    </tr>\n",
       "    <tr>\n",
       "      <th>discapacidad</th>\n",
       "      <td>NINGUNA</td>\n",
       "    </tr>\n",
       "    <tr>\n",
       "      <th>profesion_registro_civil</th>\n",
       "      <td>BACHILLER</td>\n",
       "    </tr>\n",
       "    <tr>\n",
       "      <th>instruccion</th>\n",
       "      <td>SIN_DATO</td>\n",
       "    </tr>\n",
       "    <tr>\n",
       "      <th>antecedentes</th>\n",
       "      <td>SI</td>\n",
       "    </tr>\n",
       "  </tbody>\n",
       "</table>\n",
       "</div>"
      ],
      "text/plain": [
       "                                             15271\n",
       "tipo_muerte                              ASESINATO\n",
       "zona                                        ZONA 4\n",
       "subzona                                     MANABI\n",
       "distrito                                 EL CARMEN\n",
       "circuito                                 EL CARMEN\n",
       "codigo_subcircuito                     13D05C03S02\n",
       "subcircuito                            EL CARMEN 2\n",
       "provincia                                   MANABI\n",
       "codigo_provincia                                13\n",
       "canton                                   EL CARMEN\n",
       "codigo_canton                                 1304\n",
       "coordenada_y                                   NaN\n",
       "coordenada_x                                   NaN\n",
       "area_hecho                                  URBANO\n",
       "lugar                             PARQUES Y PLAZAS\n",
       "tipo_lugar                                 PUBLICO\n",
       "fecha_infraccion               2024-10-07 00:00:00\n",
       "hora_infraccion                           21:20:00\n",
       "arma                                 ARMA DE FUEGO\n",
       "tipo_arma                                  PISTOLA\n",
       "presunta_motivacion             DELINCUENCIA COMUN\n",
       "presun_motiva_observada                    AMENAZA\n",
       "probable_causa_motivada   HERIDA POR ARMA DE FUEGO\n",
       "edad                                            27\n",
       "medida_edad                                      A\n",
       "sexo                                        HOMBRE\n",
       "genero                                   MASCULINO\n",
       "etnia                                    MESTIZO/A\n",
       "estado_civil                               SOLTERO\n",
       "nacionalidad                               ECUADOR\n",
       "discapacidad                               NINGUNA\n",
       "profesion_registro_civil                 BACHILLER\n",
       "instruccion                               SIN_DATO\n",
       "antecedentes                                    SI"
      ]
     },
     "execution_count": 4,
     "metadata": {},
     "output_type": "execute_result"
    }
   ],
   "source": [
    "df[df[\"coordenada_x\"].isna()].T #The one case that has no coordinates needs to be droped"
   ]
  },
  {
   "cell_type": "code",
   "execution_count": 5,
   "id": "aabd6b18-5e6f-462f-a9ef-170565ca80e6",
   "metadata": {},
   "outputs": [],
   "source": [
    "df = df.dropna(subset=\"coordenada_x\")"
   ]
  },
  {
   "cell_type": "code",
   "execution_count": 6,
   "id": "3002fa04-b9ab-49b0-abbe-eaf457d7f1b3",
   "metadata": {},
   "outputs": [],
   "source": [
    "df = df.drop(columns={'zona', 'subzona', 'distrito', 'circuito',\n",
    "       'codigo_subcircuito', 'subcircuito'})"
   ]
  },
  {
   "cell_type": "code",
   "execution_count": 7,
   "id": "7d729676-b83c-485c-887c-14747f2c7861",
   "metadata": {},
   "outputs": [
    {
     "data": {
      "text/plain": [
       "edad\n",
       "False    18765\n",
       "True       569\n",
       "Name: count, dtype: int64"
      ]
     },
     "execution_count": 7,
     "metadata": {},
     "output_type": "execute_result"
    }
   ],
   "source": [
    "df[\"edad\"] = pd.to_numeric(df[\"edad\"], errors=\"coerce\").astype(\"Int64\")\n",
    "df[\"edad\"].isna().value_counts()"
   ]
  },
  {
   "cell_type": "code",
   "execution_count": 8,
   "id": "bf25b727-6f7d-4563-a8ed-9e95bf6b1d42",
   "metadata": {},
   "outputs": [
    {
     "name": "stderr",
     "output_type": "stream",
     "text": [
      "/var/folders/g1/ld0klj_s7bxf96phwdd6v4t80000gn/T/ipykernel_10250/535272774.py:1: UserWarning: Could not infer format, so each element will be parsed individually, falling back to `dateutil`. To ensure parsing is consistent and as-expected, please specify a format.\n",
      "  df[\"datetime\"] = pd.to_datetime(df[\"fecha_infraccion\"] + \" \" + df[\"hora_infraccion\"], errors=\"coerce\")\n"
     ]
    }
   ],
   "source": [
    "df[\"datetime\"] = pd.to_datetime(df[\"fecha_infraccion\"] + \" \" + df[\"hora_infraccion\"], errors=\"coerce\")\n",
    "df = df.drop(columns={'fecha_infraccion', 'hora_infraccion'})"
   ]
  },
  {
   "cell_type": "code",
   "execution_count": 9,
   "id": "3bcaf42f-a09b-496e-aa42-277389432df1",
   "metadata": {},
   "outputs": [],
   "source": [
    "df[\"weekday\"] = df[\"datetime\"].dt.day_name()"
   ]
  },
  {
   "cell_type": "code",
   "execution_count": 10,
   "id": "ebea020e-a498-410e-a255-195b1f071788",
   "metadata": {},
   "outputs": [],
   "source": [
    "def daytime(dt):\n",
    "    hour = dt.hour\n",
    "    if 5 <= hour < 12:\n",
    "        return \"morning\"\n",
    "    elif 12 <= hour < 14:\n",
    "        return \"noon\"\n",
    "    elif 14 <= hour < 18:\n",
    "        return \"afternoon\"\n",
    "    elif 18 <= hour < 22:\n",
    "        return \"evening\"\n",
    "    else:\n",
    "        return \"night\"\n",
    "\n",
    "df[\"daytime\"] = df[\"datetime\"].apply(daytime)"
   ]
  },
  {
   "cell_type": "markdown",
   "id": "ae9788e3-e645-4c6f-bca0-89b68c9478c3",
   "metadata": {},
   "source": [
    "## General analysis"
   ]
  },
  {
   "cell_type": "code",
   "execution_count": 11,
   "id": "f724059c-b1d5-4e70-a950-d484e2887ca1",
   "metadata": {},
   "outputs": [
    {
     "data": {
      "text/plain": [
       "Index(['tipo_muerte', 'provincia', 'codigo_provincia', 'canton',\n",
       "       'codigo_canton', 'coordenada_y', 'coordenada_x', 'area_hecho', 'lugar',\n",
       "       'tipo_lugar', 'arma', 'tipo_arma', 'presunta_motivacion',\n",
       "       'presun_motiva_observada', 'probable_causa_motivada', 'edad',\n",
       "       'medida_edad', 'sexo', 'genero', 'etnia', 'estado_civil',\n",
       "       'nacionalidad', 'discapacidad', 'profesion_registro_civil',\n",
       "       'instruccion', 'antecedentes', 'datetime', 'weekday', 'daytime'],\n",
       "      dtype='object')"
      ]
     },
     "execution_count": 11,
     "metadata": {},
     "output_type": "execute_result"
    }
   ],
   "source": [
    "df.columns"
   ]
  },
  {
   "cell_type": "code",
   "execution_count": 12,
   "id": "fbf27be7-5d72-462e-baec-47632d601ca7",
   "metadata": {},
   "outputs": [
    {
     "data": {
      "text/plain": [
       "19334"
      ]
     },
     "execution_count": 12,
     "metadata": {},
     "output_type": "execute_result"
    }
   ],
   "source": [
    "len(df)"
   ]
  },
  {
   "cell_type": "code",
   "execution_count": 13,
   "id": "f28248e5-b32b-4a37-bc89-0748cec3cd0d",
   "metadata": {},
   "outputs": [
    {
     "data": {
      "text/plain": [
       "9126"
      ]
     },
     "execution_count": 13,
     "metadata": {},
     "output_type": "execute_result"
    }
   ],
   "source": [
    "len(df[df[\"provincia\"] == \"GUAYAS\"])"
   ]
  },
  {
   "cell_type": "code",
   "execution_count": 14,
   "id": "d64d331c-49cd-4de9-bece-3e1a1787d675",
   "metadata": {},
   "outputs": [
    {
     "data": {
      "text/plain": [
       "5635"
      ]
     },
     "execution_count": 14,
     "metadata": {},
     "output_type": "execute_result"
    }
   ],
   "source": [
    "len(df[df[\"canton\"] == \"GUAYAQUIL\"])"
   ]
  },
  {
   "cell_type": "code",
   "execution_count": 15,
   "id": "c9789f57-7d92-472b-a6c0-9dca33091dee",
   "metadata": {},
   "outputs": [
    {
     "data": {
      "text/plain": [
       "0.47201820626874935"
      ]
     },
     "execution_count": 15,
     "metadata": {},
     "output_type": "execute_result"
    }
   ],
   "source": [
    "9126/19334"
   ]
  },
  {
   "cell_type": "code",
   "execution_count": 16,
   "id": "1b2479f3-9792-49db-a550-358f1ebc6ccb",
   "metadata": {},
   "outputs": [
    {
     "data": {
      "text/plain": [
       "1257"
      ]
     },
     "execution_count": 16,
     "metadata": {},
     "output_type": "execute_result"
    }
   ],
   "source": [
    "len(df[df[\"canton\"] == \"DURAN\"])"
   ]
  },
  {
   "cell_type": "code",
   "execution_count": 17,
   "id": "b5755129-a628-4808-b99e-1b88a53bca95",
   "metadata": {},
   "outputs": [
    {
     "data": {
      "text/plain": [
       "0.06501499948277646"
      ]
     },
     "execution_count": 17,
     "metadata": {},
     "output_type": "execute_result"
    }
   ],
   "source": [
    "1257/19334"
   ]
  },
  {
   "cell_type": "code",
   "execution_count": 26,
   "id": "c4a240b5-2715-4220-aa7d-e3b06cacc23b",
   "metadata": {},
   "outputs": [
    {
     "data": {
      "text/html": [
       "<div>\n",
       "<style scoped>\n",
       "    .dataframe tbody tr th:only-of-type {\n",
       "        vertical-align: middle;\n",
       "    }\n",
       "\n",
       "    .dataframe tbody tr th {\n",
       "        vertical-align: top;\n",
       "    }\n",
       "\n",
       "    .dataframe thead th {\n",
       "        text-align: right;\n",
       "    }\n",
       "</style>\n",
       "<table border=\"1\" class=\"dataframe\">\n",
       "  <thead>\n",
       "    <tr style=\"text-align: right;\">\n",
       "      <th></th>\n",
       "      <th>count</th>\n",
       "    </tr>\n",
       "    <tr>\n",
       "      <th>tipo_muerte</th>\n",
       "      <th></th>\n",
       "    </tr>\n",
       "  </thead>\n",
       "  <tbody>\n",
       "    <tr>\n",
       "      <th>ASESINATO</th>\n",
       "      <td>17948</td>\n",
       "    </tr>\n",
       "    <tr>\n",
       "      <th>HOMICIDIO</th>\n",
       "      <td>1089</td>\n",
       "    </tr>\n",
       "    <tr>\n",
       "      <th>FEMICIDIO</th>\n",
       "      <td>220</td>\n",
       "    </tr>\n",
       "    <tr>\n",
       "      <th>SICARIATO</th>\n",
       "      <td>77</td>\n",
       "    </tr>\n",
       "  </tbody>\n",
       "</table>\n",
       "</div>"
      ],
      "text/plain": [
       "             count\n",
       "tipo_muerte       \n",
       "ASESINATO    17948\n",
       "HOMICIDIO     1089\n",
       "FEMICIDIO      220\n",
       "SICARIATO       77"
      ]
     },
     "execution_count": 26,
     "metadata": {},
     "output_type": "execute_result"
    }
   ],
   "source": [
    "df[\"tipo_muerte\"].value_counts().to_frame()"
   ]
  },
  {
   "cell_type": "code",
   "execution_count": 27,
   "id": "f17eddd3-dd76-4efc-9a17-16ea39fd1ee3",
   "metadata": {},
   "outputs": [
    {
     "data": {
      "text/html": [
       "<div>\n",
       "<style scoped>\n",
       "    .dataframe tbody tr th:only-of-type {\n",
       "        vertical-align: middle;\n",
       "    }\n",
       "\n",
       "    .dataframe tbody tr th {\n",
       "        vertical-align: top;\n",
       "    }\n",
       "\n",
       "    .dataframe thead th {\n",
       "        text-align: right;\n",
       "    }\n",
       "</style>\n",
       "<table border=\"1\" class=\"dataframe\">\n",
       "  <thead>\n",
       "    <tr style=\"text-align: right;\">\n",
       "      <th></th>\n",
       "      <th>count</th>\n",
       "    </tr>\n",
       "    <tr>\n",
       "      <th>arma</th>\n",
       "      <th></th>\n",
       "    </tr>\n",
       "  </thead>\n",
       "  <tbody>\n",
       "    <tr>\n",
       "      <th>ARMA DE FUEGO</th>\n",
       "      <td>16677</td>\n",
       "    </tr>\n",
       "    <tr>\n",
       "      <th>ARMA BLANCA</th>\n",
       "      <td>1496</td>\n",
       "    </tr>\n",
       "    <tr>\n",
       "      <th>OTROS</th>\n",
       "      <td>581</td>\n",
       "    </tr>\n",
       "    <tr>\n",
       "      <th>ARMA CONTUNDENTE</th>\n",
       "      <td>357</td>\n",
       "    </tr>\n",
       "    <tr>\n",
       "      <th>CONSTRICTORA</th>\n",
       "      <td>221</td>\n",
       "    </tr>\n",
       "    <tr>\n",
       "      <th>SUSTANCIAS</th>\n",
       "      <td>2</td>\n",
       "    </tr>\n",
       "  </tbody>\n",
       "</table>\n",
       "</div>"
      ],
      "text/plain": [
       "                  count\n",
       "arma                   \n",
       "ARMA DE FUEGO     16677\n",
       "ARMA BLANCA        1496\n",
       "OTROS               581\n",
       "ARMA CONTUNDENTE    357\n",
       "CONSTRICTORA        221\n",
       "SUSTANCIAS            2"
      ]
     },
     "execution_count": 27,
     "metadata": {},
     "output_type": "execute_result"
    }
   ],
   "source": [
    "df[\"arma\"].value_counts().to_frame()"
   ]
  },
  {
   "cell_type": "code",
   "execution_count": 28,
   "id": "201e4a68-b245-4b2a-8fc0-adf966d170e6",
   "metadata": {},
   "outputs": [
    {
     "data": {
      "text/html": [
       "<div>\n",
       "<style scoped>\n",
       "    .dataframe tbody tr th:only-of-type {\n",
       "        vertical-align: middle;\n",
       "    }\n",
       "\n",
       "    .dataframe tbody tr th {\n",
       "        vertical-align: top;\n",
       "    }\n",
       "\n",
       "    .dataframe thead th {\n",
       "        text-align: right;\n",
       "    }\n",
       "</style>\n",
       "<table border=\"1\" class=\"dataframe\">\n",
       "  <thead>\n",
       "    <tr style=\"text-align: right;\">\n",
       "      <th></th>\n",
       "      <th></th>\n",
       "      <th>count</th>\n",
       "    </tr>\n",
       "    <tr>\n",
       "      <th>arma</th>\n",
       "      <th>tipo_arma</th>\n",
       "      <th></th>\n",
       "    </tr>\n",
       "  </thead>\n",
       "  <tbody>\n",
       "    <tr>\n",
       "      <th rowspan=\"11\" valign=\"top\">ARMA BLANCA</th>\n",
       "      <th>CUCHILLO</th>\n",
       "      <td>701</td>\n",
       "    </tr>\n",
       "    <tr>\n",
       "      <th>MACHETE</th>\n",
       "      <td>328</td>\n",
       "    </tr>\n",
       "    <tr>\n",
       "      <th>OTRO</th>\n",
       "      <td>230</td>\n",
       "    </tr>\n",
       "    <tr>\n",
       "      <th>CORTO PUNZANTE</th>\n",
       "      <td>221</td>\n",
       "    </tr>\n",
       "    <tr>\n",
       "      <th>PUNAL</th>\n",
       "      <td>4</td>\n",
       "    </tr>\n",
       "    <tr>\n",
       "      <th>DESTORNILLADOR</th>\n",
       "      <td>3</td>\n",
       "    </tr>\n",
       "    <tr>\n",
       "      <th>NAVAJA</th>\n",
       "      <td>3</td>\n",
       "    </tr>\n",
       "    <tr>\n",
       "      <th>DAGA</th>\n",
       "      <td>2</td>\n",
       "    </tr>\n",
       "    <tr>\n",
       "      <th>TIJERAS</th>\n",
       "      <td>2</td>\n",
       "    </tr>\n",
       "    <tr>\n",
       "      <th>HACHA</th>\n",
       "      <td>1</td>\n",
       "    </tr>\n",
       "    <tr>\n",
       "      <th>PICA HIELO</th>\n",
       "      <td>1</td>\n",
       "    </tr>\n",
       "    <tr>\n",
       "      <th rowspan=\"7\" valign=\"top\">ARMA CONTUNDENTE</th>\n",
       "      <th>OBJETO CONTUSO</th>\n",
       "      <td>263</td>\n",
       "    </tr>\n",
       "    <tr>\n",
       "      <th>PALO</th>\n",
       "      <td>41</td>\n",
       "    </tr>\n",
       "    <tr>\n",
       "      <th>ROCA</th>\n",
       "      <td>34</td>\n",
       "    </tr>\n",
       "    <tr>\n",
       "      <th>BARRA</th>\n",
       "      <td>8</td>\n",
       "    </tr>\n",
       "    <tr>\n",
       "      <th>MARTILLO</th>\n",
       "      <td>5</td>\n",
       "    </tr>\n",
       "    <tr>\n",
       "      <th>BATE</th>\n",
       "      <td>3</td>\n",
       "    </tr>\n",
       "    <tr>\n",
       "      <th>GARROTE</th>\n",
       "      <td>3</td>\n",
       "    </tr>\n",
       "    <tr>\n",
       "      <th rowspan=\"13\" valign=\"top\">ARMA DE FUEGO</th>\n",
       "      <th>PISTOLA</th>\n",
       "      <td>11624</td>\n",
       "    </tr>\n",
       "    <tr>\n",
       "      <th>OTROS ARMA CORTA</th>\n",
       "      <td>1592</td>\n",
       "    </tr>\n",
       "    <tr>\n",
       "      <th>REVOLVER</th>\n",
       "      <td>1013</td>\n",
       "    </tr>\n",
       "    <tr>\n",
       "      <th>OTRO</th>\n",
       "      <td>918</td>\n",
       "    </tr>\n",
       "    <tr>\n",
       "      <th>FUSIL</th>\n",
       "      <td>702</td>\n",
       "    </tr>\n",
       "    <tr>\n",
       "      <th>OTROS ARMA LARGA</th>\n",
       "      <td>628</td>\n",
       "    </tr>\n",
       "    <tr>\n",
       "      <th>CARTUCHERA</th>\n",
       "      <td>82</td>\n",
       "    </tr>\n",
       "    <tr>\n",
       "      <th>ESCOPETA</th>\n",
       "      <td>52</td>\n",
       "    </tr>\n",
       "    <tr>\n",
       "      <th>SUBAMETRALLADORA</th>\n",
       "      <td>45</td>\n",
       "    </tr>\n",
       "    <tr>\n",
       "      <th>CARABINA</th>\n",
       "      <td>10</td>\n",
       "    </tr>\n",
       "    <tr>\n",
       "      <th>REPETIDORA</th>\n",
       "      <td>7</td>\n",
       "    </tr>\n",
       "    <tr>\n",
       "      <th>AMETRALLADORA</th>\n",
       "      <td>3</td>\n",
       "    </tr>\n",
       "    <tr>\n",
       "      <th>NINGUNA</th>\n",
       "      <td>1</td>\n",
       "    </tr>\n",
       "    <tr>\n",
       "      <th rowspan=\"5\" valign=\"top\">CONSTRICTORA</th>\n",
       "      <th>SOGA</th>\n",
       "      <td>79</td>\n",
       "    </tr>\n",
       "    <tr>\n",
       "      <th>PRENDA TEXTIL</th>\n",
       "      <td>70</td>\n",
       "    </tr>\n",
       "    <tr>\n",
       "      <th>CUERDA</th>\n",
       "      <td>50</td>\n",
       "    </tr>\n",
       "    <tr>\n",
       "      <th>CABLE</th>\n",
       "      <td>19</td>\n",
       "    </tr>\n",
       "    <tr>\n",
       "      <th>CORREA</th>\n",
       "      <td>3</td>\n",
       "    </tr>\n",
       "    <tr>\n",
       "      <th rowspan=\"6\" valign=\"top\">OTROS</th>\n",
       "      <th>NINGUNA</th>\n",
       "      <td>517</td>\n",
       "    </tr>\n",
       "    <tr>\n",
       "      <th>HIDROCARBUROS</th>\n",
       "      <td>34</td>\n",
       "    </tr>\n",
       "    <tr>\n",
       "      <th>CINTA DE EMBALAJE</th>\n",
       "      <td>11</td>\n",
       "    </tr>\n",
       "    <tr>\n",
       "      <th>EXPLOSIVOS</th>\n",
       "      <td>10</td>\n",
       "    </tr>\n",
       "    <tr>\n",
       "      <th>FUNDA</th>\n",
       "      <td>7</td>\n",
       "    </tr>\n",
       "    <tr>\n",
       "      <th>ELECTRICIDAD</th>\n",
       "      <td>2</td>\n",
       "    </tr>\n",
       "    <tr>\n",
       "      <th>SUSTANCIAS</th>\n",
       "      <th>VENENO</th>\n",
       "      <td>2</td>\n",
       "    </tr>\n",
       "  </tbody>\n",
       "</table>\n",
       "</div>"
      ],
      "text/plain": [
       "                                    count\n",
       "arma             tipo_arma               \n",
       "ARMA BLANCA      CUCHILLO             701\n",
       "                 MACHETE              328\n",
       "                 OTRO                 230\n",
       "                 CORTO PUNZANTE       221\n",
       "                 PUNAL                  4\n",
       "                 DESTORNILLADOR         3\n",
       "                 NAVAJA                 3\n",
       "                 DAGA                   2\n",
       "                 TIJERAS                2\n",
       "                 HACHA                  1\n",
       "                 PICA HIELO             1\n",
       "ARMA CONTUNDENTE OBJETO CONTUSO       263\n",
       "                 PALO                  41\n",
       "                 ROCA                  34\n",
       "                 BARRA                  8\n",
       "                 MARTILLO               5\n",
       "                 BATE                   3\n",
       "                 GARROTE                3\n",
       "ARMA DE FUEGO    PISTOLA            11624\n",
       "                 OTROS ARMA CORTA    1592\n",
       "                 REVOLVER            1013\n",
       "                 OTRO                 918\n",
       "                 FUSIL                702\n",
       "                 OTROS ARMA LARGA     628\n",
       "                 CARTUCHERA            82\n",
       "                 ESCOPETA              52\n",
       "                 SUBAMETRALLADORA      45\n",
       "                 CARABINA              10\n",
       "                 REPETIDORA             7\n",
       "                 AMETRALLADORA          3\n",
       "                 NINGUNA                1\n",
       "CONSTRICTORA     SOGA                  79\n",
       "                 PRENDA TEXTIL         70\n",
       "                 CUERDA                50\n",
       "                 CABLE                 19\n",
       "                 CORREA                 3\n",
       "OTROS            NINGUNA              517\n",
       "                 HIDROCARBUROS         34\n",
       "                 CINTA DE EMBALAJE     11\n",
       "                 EXPLOSIVOS            10\n",
       "                 FUNDA                  7\n",
       "                 ELECTRICIDAD           2\n",
       "SUSTANCIAS       VENENO                 2"
      ]
     },
     "execution_count": 28,
     "metadata": {},
     "output_type": "execute_result"
    }
   ],
   "source": [
    "df.groupby(\"arma\")[\"tipo_arma\"].value_counts().to_frame()"
   ]
  },
  {
   "cell_type": "code",
   "execution_count": 29,
   "id": "a7e11d73-7c40-4b7a-b155-0abcf2833fb5",
   "metadata": {},
   "outputs": [
    {
     "data": {
      "text/plain": [
       "sexo\n",
       "HOMBRE            Axes(0.125,0.11;0.775x0.77)\n",
       "MUJER             Axes(0.125,0.11;0.775x0.77)\n",
       "NO DETERMINADO    Axes(0.125,0.11;0.775x0.77)\n",
       "Name: edad, dtype: object"
      ]
     },
     "execution_count": 29,
     "metadata": {},
     "output_type": "execute_result"
    },
    {
     "data": {
      "image/png": "[encoded data removed]",
      "text/plain": [
       "<Figure size 640x480 with 1 Axes>"
      ]
     },
     "metadata": {},
     "output_type": "display_data"
    }
   ],
   "source": [
    "df.groupby(\"sexo\")[\"edad\"].hist(bins=30)"
   ]
  },
  {
   "cell_type": "code",
   "execution_count": 30,
   "id": "4463b585-fd36-4ac0-ad76-2dc9abf7a66e",
   "metadata": {},
   "outputs": [
    {
     "data": {
      "text/html": [
       "<div>\n",
       "<style scoped>\n",
       "    .dataframe tbody tr th:only-of-type {\n",
       "        vertical-align: middle;\n",
       "    }\n",
       "\n",
       "    .dataframe tbody tr th {\n",
       "        vertical-align: top;\n",
       "    }\n",
       "\n",
       "    .dataframe thead th {\n",
       "        text-align: right;\n",
       "    }\n",
       "</style>\n",
       "<table border=\"1\" class=\"dataframe\">\n",
       "  <thead>\n",
       "    <tr style=\"text-align: right;\">\n",
       "      <th></th>\n",
       "      <th>count</th>\n",
       "    </tr>\n",
       "    <tr>\n",
       "      <th>edad</th>\n",
       "      <th></th>\n",
       "    </tr>\n",
       "  </thead>\n",
       "  <tbody>\n",
       "    <tr>\n",
       "      <th>0</th>\n",
       "      <td>15</td>\n",
       "    </tr>\n",
       "    <tr>\n",
       "      <th>1</th>\n",
       "      <td>11</td>\n",
       "    </tr>\n",
       "    <tr>\n",
       "      <th>2</th>\n",
       "      <td>11</td>\n",
       "    </tr>\n",
       "    <tr>\n",
       "      <th>3</th>\n",
       "      <td>16</td>\n",
       "    </tr>\n",
       "    <tr>\n",
       "      <th>4</th>\n",
       "      <td>15</td>\n",
       "    </tr>\n",
       "    <tr>\n",
       "      <th>5</th>\n",
       "      <td>8</td>\n",
       "    </tr>\n",
       "    <tr>\n",
       "      <th>6</th>\n",
       "      <td>8</td>\n",
       "    </tr>\n",
       "    <tr>\n",
       "      <th>7</th>\n",
       "      <td>9</td>\n",
       "    </tr>\n",
       "    <tr>\n",
       "      <th>8</th>\n",
       "      <td>9</td>\n",
       "    </tr>\n",
       "    <tr>\n",
       "      <th>9</th>\n",
       "      <td>7</td>\n",
       "    </tr>\n",
       "    <tr>\n",
       "      <th>10</th>\n",
       "      <td>8</td>\n",
       "    </tr>\n",
       "    <tr>\n",
       "      <th>11</th>\n",
       "      <td>4</td>\n",
       "    </tr>\n",
       "    <tr>\n",
       "      <th>12</th>\n",
       "      <td>9</td>\n",
       "    </tr>\n",
       "  </tbody>\n",
       "</table>\n",
       "</div>"
      ],
      "text/plain": [
       "      count\n",
       "edad       \n",
       "0        15\n",
       "1        11\n",
       "2        11\n",
       "3        16\n",
       "4        15\n",
       "5         8\n",
       "6         8\n",
       "7         9\n",
       "8         9\n",
       "9         7\n",
       "10        8\n",
       "11        4\n",
       "12        9"
      ]
     },
     "execution_count": 30,
     "metadata": {},
     "output_type": "execute_result"
    }
   ],
   "source": [
    "df[df[\"edad\"] < 13][\"edad\"].value_counts().to_frame().sort_values(by=\"edad\")"
   ]
  },
  {
   "cell_type": "code",
   "execution_count": 31,
   "id": "3af3cc49-e003-4cb7-b421-339b442697b7",
   "metadata": {},
   "outputs": [
    {
     "data": {
      "text/html": [
       "<div>\n",
       "<style scoped>\n",
       "    .dataframe tbody tr th:only-of-type {\n",
       "        vertical-align: middle;\n",
       "    }\n",
       "\n",
       "    .dataframe tbody tr th {\n",
       "        vertical-align: top;\n",
       "    }\n",
       "\n",
       "    .dataframe thead th {\n",
       "        text-align: right;\n",
       "    }\n",
       "</style>\n",
       "<table border=\"1\" class=\"dataframe\">\n",
       "  <thead>\n",
       "    <tr style=\"text-align: right;\">\n",
       "      <th></th>\n",
       "      <th>count</th>\n",
       "    </tr>\n",
       "    <tr>\n",
       "      <th>datetime</th>\n",
       "      <th></th>\n",
       "    </tr>\n",
       "  </thead>\n",
       "  <tbody>\n",
       "    <tr>\n",
       "      <th>2024-01-01</th>\n",
       "      <td>64</td>\n",
       "    </tr>\n",
       "    <tr>\n",
       "      <th>2023-07-23</th>\n",
       "      <td>55</td>\n",
       "    </tr>\n",
       "    <tr>\n",
       "      <th>2025-05-11</th>\n",
       "      <td>49</td>\n",
       "    </tr>\n",
       "    <tr>\n",
       "      <th>2025-02-14</th>\n",
       "      <td>47</td>\n",
       "    </tr>\n",
       "    <tr>\n",
       "      <th>2025-05-09</th>\n",
       "      <td>47</td>\n",
       "    </tr>\n",
       "  </tbody>\n",
       "</table>\n",
       "</div>"
      ],
      "text/plain": [
       "            count\n",
       "datetime         \n",
       "2024-01-01     64\n",
       "2023-07-23     55\n",
       "2025-05-11     49\n",
       "2025-02-14     47\n",
       "2025-05-09     47"
      ]
     },
     "execution_count": 31,
     "metadata": {},
     "output_type": "execute_result"
    }
   ],
   "source": [
    "df[\"datetime\"].dt.date.value_counts().head().to_frame()"
   ]
  },
  {
   "cell_type": "code",
   "execution_count": 32,
   "id": "62488fd5-8afd-4806-a069-905e67e08314",
   "metadata": {},
   "outputs": [
    {
     "data": {
      "text/html": [
       "<div>\n",
       "<style scoped>\n",
       "    .dataframe tbody tr th:only-of-type {\n",
       "        vertical-align: middle;\n",
       "    }\n",
       "\n",
       "    .dataframe tbody tr th {\n",
       "        vertical-align: top;\n",
       "    }\n",
       "\n",
       "    .dataframe thead th {\n",
       "        text-align: right;\n",
       "    }\n",
       "</style>\n",
       "<table border=\"1\" class=\"dataframe\">\n",
       "  <thead>\n",
       "    <tr style=\"text-align: right;\">\n",
       "      <th></th>\n",
       "      <th>count</th>\n",
       "    </tr>\n",
       "    <tr>\n",
       "      <th>weekday</th>\n",
       "      <th></th>\n",
       "    </tr>\n",
       "  </thead>\n",
       "  <tbody>\n",
       "    <tr>\n",
       "      <th>Sunday</th>\n",
       "      <td>3412</td>\n",
       "    </tr>\n",
       "    <tr>\n",
       "      <th>Saturday</th>\n",
       "      <td>3327</td>\n",
       "    </tr>\n",
       "    <tr>\n",
       "      <th>Friday</th>\n",
       "      <td>2695</td>\n",
       "    </tr>\n",
       "    <tr>\n",
       "      <th>Monday</th>\n",
       "      <td>2628</td>\n",
       "    </tr>\n",
       "    <tr>\n",
       "      <th>Thursday</th>\n",
       "      <td>2536</td>\n",
       "    </tr>\n",
       "    <tr>\n",
       "      <th>Wednesday</th>\n",
       "      <td>2394</td>\n",
       "    </tr>\n",
       "    <tr>\n",
       "      <th>Tuesday</th>\n",
       "      <td>2322</td>\n",
       "    </tr>\n",
       "  </tbody>\n",
       "</table>\n",
       "</div>"
      ],
      "text/plain": [
       "           count\n",
       "weekday         \n",
       "Sunday      3412\n",
       "Saturday    3327\n",
       "Friday      2695\n",
       "Monday      2628\n",
       "Thursday    2536\n",
       "Wednesday   2394\n",
       "Tuesday     2322"
      ]
     },
     "execution_count": 32,
     "metadata": {},
     "output_type": "execute_result"
    }
   ],
   "source": [
    "df[\"weekday\"].value_counts().to_frame()"
   ]
  },
  {
   "cell_type": "code",
   "execution_count": 33,
   "id": "38fe9eb3-be4d-4968-a127-911587ed28f3",
   "metadata": {},
   "outputs": [
    {
     "data": {
      "text/html": [
       "<div>\n",
       "<style scoped>\n",
       "    .dataframe tbody tr th:only-of-type {\n",
       "        vertical-align: middle;\n",
       "    }\n",
       "\n",
       "    .dataframe tbody tr th {\n",
       "        vertical-align: top;\n",
       "    }\n",
       "\n",
       "    .dataframe thead th {\n",
       "        text-align: right;\n",
       "    }\n",
       "</style>\n",
       "<table border=\"1\" class=\"dataframe\">\n",
       "  <thead>\n",
       "    <tr style=\"text-align: right;\">\n",
       "      <th></th>\n",
       "      <th>count</th>\n",
       "    </tr>\n",
       "    <tr>\n",
       "      <th>daytime</th>\n",
       "      <th></th>\n",
       "    </tr>\n",
       "  </thead>\n",
       "  <tbody>\n",
       "    <tr>\n",
       "      <th>night</th>\n",
       "      <td>6010</td>\n",
       "    </tr>\n",
       "    <tr>\n",
       "      <th>evening</th>\n",
       "      <td>4657</td>\n",
       "    </tr>\n",
       "    <tr>\n",
       "      <th>morning</th>\n",
       "      <td>3648</td>\n",
       "    </tr>\n",
       "    <tr>\n",
       "      <th>afternoon</th>\n",
       "      <td>3508</td>\n",
       "    </tr>\n",
       "    <tr>\n",
       "      <th>noon</th>\n",
       "      <td>1511</td>\n",
       "    </tr>\n",
       "  </tbody>\n",
       "</table>\n",
       "</div>"
      ],
      "text/plain": [
       "           count\n",
       "daytime         \n",
       "night       6010\n",
       "evening     4657\n",
       "morning     3648\n",
       "afternoon   3508\n",
       "noon        1511"
      ]
     },
     "execution_count": 33,
     "metadata": {},
     "output_type": "execute_result"
    }
   ],
   "source": [
    "df[\"daytime\"].value_counts().to_frame()"
   ]
  },
  {
   "cell_type": "code",
   "execution_count": 34,
   "id": "443b92ae-7dee-47d5-9f5f-b51762a772ce",
   "metadata": {},
   "outputs": [
    {
     "data": {
      "text/html": [
       "<div>\n",
       "<style scoped>\n",
       "    .dataframe tbody tr th:only-of-type {\n",
       "        vertical-align: middle;\n",
       "    }\n",
       "\n",
       "    .dataframe tbody tr th {\n",
       "        vertical-align: top;\n",
       "    }\n",
       "\n",
       "    .dataframe thead th {\n",
       "        text-align: right;\n",
       "    }\n",
       "</style>\n",
       "<table border=\"1\" class=\"dataframe\">\n",
       "  <thead>\n",
       "    <tr style=\"text-align: right;\">\n",
       "      <th></th>\n",
       "      <th>count</th>\n",
       "    </tr>\n",
       "    <tr>\n",
       "      <th>sexo</th>\n",
       "      <th></th>\n",
       "    </tr>\n",
       "  </thead>\n",
       "  <tbody>\n",
       "    <tr>\n",
       "      <th>HOMBRE</th>\n",
       "      <td>17779</td>\n",
       "    </tr>\n",
       "    <tr>\n",
       "      <th>MUJER</th>\n",
       "      <td>1459</td>\n",
       "    </tr>\n",
       "    <tr>\n",
       "      <th>NO DETERMINADO</th>\n",
       "      <td>96</td>\n",
       "    </tr>\n",
       "  </tbody>\n",
       "</table>\n",
       "</div>"
      ],
      "text/plain": [
       "                count\n",
       "sexo                 \n",
       "HOMBRE          17779\n",
       "MUJER            1459\n",
       "NO DETERMINADO     96"
      ]
     },
     "execution_count": 34,
     "metadata": {},
     "output_type": "execute_result"
    }
   ],
   "source": [
    "df[\"sexo\"].value_counts().to_frame()"
   ]
  },
  {
   "cell_type": "code",
   "execution_count": 35,
   "id": "1460aa37-2d5f-43ce-9971-0b099f4d35de",
   "metadata": {},
   "outputs": [
    {
     "data": {
      "text/html": [
       "<div>\n",
       "<style scoped>\n",
       "    .dataframe tbody tr th:only-of-type {\n",
       "        vertical-align: middle;\n",
       "    }\n",
       "\n",
       "    .dataframe tbody tr th {\n",
       "        vertical-align: top;\n",
       "    }\n",
       "\n",
       "    .dataframe thead th {\n",
       "        text-align: right;\n",
       "    }\n",
       "</style>\n",
       "<table border=\"1\" class=\"dataframe\">\n",
       "  <thead>\n",
       "    <tr style=\"text-align: right;\">\n",
       "      <th></th>\n",
       "      <th>count</th>\n",
       "    </tr>\n",
       "    <tr>\n",
       "      <th>genero</th>\n",
       "      <th></th>\n",
       "    </tr>\n",
       "  </thead>\n",
       "  <tbody>\n",
       "    <tr>\n",
       "      <th>MASCULINO</th>\n",
       "      <td>17686</td>\n",
       "    </tr>\n",
       "    <tr>\n",
       "      <th>FEMENINO</th>\n",
       "      <td>1443</td>\n",
       "    </tr>\n",
       "    <tr>\n",
       "      <th>NO APLICA</th>\n",
       "      <td>149</td>\n",
       "    </tr>\n",
       "    <tr>\n",
       "      <th>SIN_DATO</th>\n",
       "      <td>20</td>\n",
       "    </tr>\n",
       "    <tr>\n",
       "      <th>TRANS</th>\n",
       "      <td>15</td>\n",
       "    </tr>\n",
       "    <tr>\n",
       "      <th>TRANS FEME</th>\n",
       "      <td>14</td>\n",
       "    </tr>\n",
       "    <tr>\n",
       "      <th>TRANSEXUAL</th>\n",
       "      <td>5</td>\n",
       "    </tr>\n",
       "    <tr>\n",
       "      <th>TRANS MASC</th>\n",
       "      <td>2</td>\n",
       "    </tr>\n",
       "  </tbody>\n",
       "</table>\n",
       "</div>"
      ],
      "text/plain": [
       "            count\n",
       "genero           \n",
       "MASCULINO   17686\n",
       "FEMENINO     1443\n",
       "NO APLICA     149\n",
       "SIN_DATO       20\n",
       "TRANS          15\n",
       "TRANS FEME     14\n",
       "TRANSEXUAL      5\n",
       "TRANS MASC      2"
      ]
     },
     "execution_count": 35,
     "metadata": {},
     "output_type": "execute_result"
    }
   ],
   "source": [
    "df[\"genero\"].value_counts().to_frame()"
   ]
  },
  {
   "cell_type": "code",
   "execution_count": 36,
   "id": "79020dad-f780-436b-a505-4a5886cb3d70",
   "metadata": {},
   "outputs": [
    {
     "data": {
      "text/html": [
       "<div>\n",
       "<style scoped>\n",
       "    .dataframe tbody tr th:only-of-type {\n",
       "        vertical-align: middle;\n",
       "    }\n",
       "\n",
       "    .dataframe tbody tr th {\n",
       "        vertical-align: top;\n",
       "    }\n",
       "\n",
       "    .dataframe thead th {\n",
       "        text-align: right;\n",
       "    }\n",
       "</style>\n",
       "<table border=\"1\" class=\"dataframe\">\n",
       "  <thead>\n",
       "    <tr style=\"text-align: right;\">\n",
       "      <th></th>\n",
       "      <th></th>\n",
       "      <th>count</th>\n",
       "    </tr>\n",
       "    <tr>\n",
       "      <th>genero</th>\n",
       "      <th>tipo_muerte</th>\n",
       "      <th></th>\n",
       "    </tr>\n",
       "  </thead>\n",
       "  <tbody>\n",
       "    <tr>\n",
       "      <th rowspan=\"4\" valign=\"top\">FEMENINO</th>\n",
       "      <th>ASESINATO</th>\n",
       "      <td>1160</td>\n",
       "    </tr>\n",
       "    <tr>\n",
       "      <th>FEMICIDIO</th>\n",
       "      <td>211</td>\n",
       "    </tr>\n",
       "    <tr>\n",
       "      <th>HOMICIDIO</th>\n",
       "      <td>68</td>\n",
       "    </tr>\n",
       "    <tr>\n",
       "      <th>SICARIATO</th>\n",
       "      <td>4</td>\n",
       "    </tr>\n",
       "    <tr>\n",
       "      <th rowspan=\"4\" valign=\"top\">MASCULINO</th>\n",
       "      <th>ASESINATO</th>\n",
       "      <td>16597</td>\n",
       "    </tr>\n",
       "    <tr>\n",
       "      <th>HOMICIDIO</th>\n",
       "      <td>1009</td>\n",
       "    </tr>\n",
       "    <tr>\n",
       "      <th>SICARIATO</th>\n",
       "      <td>72</td>\n",
       "    </tr>\n",
       "    <tr>\n",
       "      <th>FEMICIDIO</th>\n",
       "      <td>8</td>\n",
       "    </tr>\n",
       "    <tr>\n",
       "      <th rowspan=\"3\" valign=\"top\">NO APLICA</th>\n",
       "      <th>ASESINATO</th>\n",
       "      <td>142</td>\n",
       "    </tr>\n",
       "    <tr>\n",
       "      <th>HOMICIDIO</th>\n",
       "      <td>6</td>\n",
       "    </tr>\n",
       "    <tr>\n",
       "      <th>SICARIATO</th>\n",
       "      <td>1</td>\n",
       "    </tr>\n",
       "    <tr>\n",
       "      <th rowspan=\"2\" valign=\"top\">SIN_DATO</th>\n",
       "      <th>ASESINATO</th>\n",
       "      <td>18</td>\n",
       "    </tr>\n",
       "    <tr>\n",
       "      <th>HOMICIDIO</th>\n",
       "      <td>2</td>\n",
       "    </tr>\n",
       "    <tr>\n",
       "      <th rowspan=\"2\" valign=\"top\">TRANS</th>\n",
       "      <th>ASESINATO</th>\n",
       "      <td>14</td>\n",
       "    </tr>\n",
       "    <tr>\n",
       "      <th>HOMICIDIO</th>\n",
       "      <td>1</td>\n",
       "    </tr>\n",
       "    <tr>\n",
       "      <th rowspan=\"3\" valign=\"top\">TRANS FEME</th>\n",
       "      <th>ASESINATO</th>\n",
       "      <td>10</td>\n",
       "    </tr>\n",
       "    <tr>\n",
       "      <th>HOMICIDIO</th>\n",
       "      <td>3</td>\n",
       "    </tr>\n",
       "    <tr>\n",
       "      <th>FEMICIDIO</th>\n",
       "      <td>1</td>\n",
       "    </tr>\n",
       "    <tr>\n",
       "      <th>TRANS MASC</th>\n",
       "      <th>ASESINATO</th>\n",
       "      <td>2</td>\n",
       "    </tr>\n",
       "    <tr>\n",
       "      <th>TRANSEXUAL</th>\n",
       "      <th>ASESINATO</th>\n",
       "      <td>5</td>\n",
       "    </tr>\n",
       "  </tbody>\n",
       "</table>\n",
       "</div>"
      ],
      "text/plain": [
       "                        count\n",
       "genero     tipo_muerte       \n",
       "FEMENINO   ASESINATO     1160\n",
       "           FEMICIDIO      211\n",
       "           HOMICIDIO       68\n",
       "           SICARIATO        4\n",
       "MASCULINO  ASESINATO    16597\n",
       "           HOMICIDIO     1009\n",
       "           SICARIATO       72\n",
       "           FEMICIDIO        8\n",
       "NO APLICA  ASESINATO      142\n",
       "           HOMICIDIO        6\n",
       "           SICARIATO        1\n",
       "SIN_DATO   ASESINATO       18\n",
       "           HOMICIDIO        2\n",
       "TRANS      ASESINATO       14\n",
       "           HOMICIDIO        1\n",
       "TRANS FEME ASESINATO       10\n",
       "           HOMICIDIO        3\n",
       "           FEMICIDIO        1\n",
       "TRANS MASC ASESINATO        2\n",
       "TRANSEXUAL ASESINATO        5"
      ]
     },
     "execution_count": 36,
     "metadata": {},
     "output_type": "execute_result"
    }
   ],
   "source": [
    "df.groupby(\"genero\")[\"tipo_muerte\"].value_counts().to_frame()"
   ]
  },
  {
   "cell_type": "code",
   "execution_count": 37,
   "id": "0727f495-1055-44c9-93fd-bc59f2591c32",
   "metadata": {},
   "outputs": [
    {
     "data": {
      "text/html": [
       "<div>\n",
       "<style scoped>\n",
       "    .dataframe tbody tr th:only-of-type {\n",
       "        vertical-align: middle;\n",
       "    }\n",
       "\n",
       "    .dataframe tbody tr th {\n",
       "        vertical-align: top;\n",
       "    }\n",
       "\n",
       "    .dataframe thead th {\n",
       "        text-align: right;\n",
       "    }\n",
       "</style>\n",
       "<table border=\"1\" class=\"dataframe\">\n",
       "  <thead>\n",
       "    <tr style=\"text-align: right;\">\n",
       "      <th></th>\n",
       "      <th>count</th>\n",
       "    </tr>\n",
       "    <tr>\n",
       "      <th>datetime</th>\n",
       "      <th></th>\n",
       "    </tr>\n",
       "  </thead>\n",
       "  <tbody>\n",
       "    <tr>\n",
       "      <th>2023</th>\n",
       "      <td>18</td>\n",
       "    </tr>\n",
       "    <tr>\n",
       "      <th>2024</th>\n",
       "      <td>10</td>\n",
       "    </tr>\n",
       "    <tr>\n",
       "      <th>2025</th>\n",
       "      <td>8</td>\n",
       "    </tr>\n",
       "  </tbody>\n",
       "</table>\n",
       "</div>"
      ],
      "text/plain": [
       "          count\n",
       "datetime       \n",
       "2023         18\n",
       "2024         10\n",
       "2025          8"
      ]
     },
     "execution_count": 37,
     "metadata": {},
     "output_type": "execute_result"
    }
   ],
   "source": [
    "df[df[\"genero\"].str.contains(\"TRANS\")][\"datetime\"].dt.year.value_counts().to_frame()"
   ]
  },
  {
   "cell_type": "code",
   "execution_count": 38,
   "id": "a5d4459a-2aa2-4840-96fd-aad4fd6af11a",
   "metadata": {},
   "outputs": [
    {
     "data": {
      "text/html": [
       "<div>\n",
       "<style scoped>\n",
       "    .dataframe tbody tr th:only-of-type {\n",
       "        vertical-align: middle;\n",
       "    }\n",
       "\n",
       "    .dataframe tbody tr th {\n",
       "        vertical-align: top;\n",
       "    }\n",
       "\n",
       "    .dataframe thead th {\n",
       "        text-align: right;\n",
       "    }\n",
       "</style>\n",
       "<table border=\"1\" class=\"dataframe\">\n",
       "  <thead>\n",
       "    <tr style=\"text-align: right;\">\n",
       "      <th></th>\n",
       "      <th>count</th>\n",
       "    </tr>\n",
       "    <tr>\n",
       "      <th>etnia</th>\n",
       "      <th></th>\n",
       "    </tr>\n",
       "  </thead>\n",
       "  <tbody>\n",
       "    <tr>\n",
       "      <th>MESTIZO/A</th>\n",
       "      <td>16452</td>\n",
       "    </tr>\n",
       "    <tr>\n",
       "      <th>AFRO</th>\n",
       "      <td>1255</td>\n",
       "    </tr>\n",
       "    <tr>\n",
       "      <th>NO DETERMINADO</th>\n",
       "      <td>906</td>\n",
       "    </tr>\n",
       "    <tr>\n",
       "      <th>MULATO/A</th>\n",
       "      <td>185</td>\n",
       "    </tr>\n",
       "    <tr>\n",
       "      <th>OTROS</th>\n",
       "      <td>155</td>\n",
       "    </tr>\n",
       "    <tr>\n",
       "      <th>MONTUBIO/A</th>\n",
       "      <td>129</td>\n",
       "    </tr>\n",
       "    <tr>\n",
       "      <th>INDIGENA</th>\n",
       "      <td>90</td>\n",
       "    </tr>\n",
       "    <tr>\n",
       "      <th>BLANCO/A</th>\n",
       "      <td>85</td>\n",
       "    </tr>\n",
       "    <tr>\n",
       "      <th>SIN_DATO</th>\n",
       "      <td>64</td>\n",
       "    </tr>\n",
       "    <tr>\n",
       "      <th>ASIATICO/A</th>\n",
       "      <td>13</td>\n",
       "    </tr>\n",
       "  </tbody>\n",
       "</table>\n",
       "</div>"
      ],
      "text/plain": [
       "                count\n",
       "etnia                \n",
       "MESTIZO/A       16452\n",
       "AFRO             1255\n",
       "NO DETERMINADO    906\n",
       "MULATO/A          185\n",
       "OTROS             155\n",
       "MONTUBIO/A        129\n",
       "INDIGENA           90\n",
       "BLANCO/A           85\n",
       "SIN_DATO           64\n",
       "ASIATICO/A         13"
      ]
     },
     "execution_count": 38,
     "metadata": {},
     "output_type": "execute_result"
    }
   ],
   "source": [
    "df[\"etnia\"].value_counts().to_frame()"
   ]
  },
  {
   "cell_type": "code",
   "execution_count": 39,
   "id": "67eb0006-6d1f-46bc-b9b7-ce340e74374a",
   "metadata": {},
   "outputs": [
    {
     "data": {
      "text/html": [
       "<div>\n",
       "<style scoped>\n",
       "    .dataframe tbody tr th:only-of-type {\n",
       "        vertical-align: middle;\n",
       "    }\n",
       "\n",
       "    .dataframe tbody tr th {\n",
       "        vertical-align: top;\n",
       "    }\n",
       "\n",
       "    .dataframe thead th {\n",
       "        text-align: right;\n",
       "    }\n",
       "</style>\n",
       "<table border=\"1\" class=\"dataframe\">\n",
       "  <thead>\n",
       "    <tr style=\"text-align: right;\">\n",
       "      <th></th>\n",
       "      <th>count</th>\n",
       "    </tr>\n",
       "    <tr>\n",
       "      <th>antecedentes</th>\n",
       "      <th></th>\n",
       "    </tr>\n",
       "  </thead>\n",
       "  <tbody>\n",
       "    <tr>\n",
       "      <th>NO</th>\n",
       "      <td>11759</td>\n",
       "    </tr>\n",
       "    <tr>\n",
       "      <th>SI</th>\n",
       "      <td>3254</td>\n",
       "    </tr>\n",
       "    <tr>\n",
       "      <th>SIN_DATO</th>\n",
       "      <td>270</td>\n",
       "    </tr>\n",
       "  </tbody>\n",
       "</table>\n",
       "</div>"
      ],
      "text/plain": [
       "              count\n",
       "antecedentes       \n",
       "NO            11759\n",
       "SI             3254\n",
       "SIN_DATO        270"
      ]
     },
     "execution_count": 39,
     "metadata": {},
     "output_type": "execute_result"
    }
   ],
   "source": [
    "df[\"antecedentes\"].value_counts().to_frame()"
   ]
  },
  {
   "cell_type": "code",
   "execution_count": 40,
   "id": "8d01dcfe-f5d5-4d17-9778-53cc0ac201af",
   "metadata": {},
   "outputs": [],
   "source": [
    "# Instrucción, profesión y nacionalidad shouldn't be taken into account for the analysis as they\n",
    "# have lots of missing data... Antecedentes is missing for 2025"
   ]
  },
  {
   "cell_type": "markdown",
   "id": "cff895b4-4caa-4e99-9725-ab1462ba7215",
   "metadata": {},
   "source": [
    "## Geospacial analysis"
   ]
  },
  {
   "cell_type": "code",
   "execution_count": 19,
   "id": "df94e5cd-7cd3-4349-81a4-f1fe9ba3ae0b",
   "metadata": {},
   "outputs": [],
   "source": [
    "parishes = gpd.read_file(\"/Users/tefaceli/Documents/bases_ecuador/shapefiles/CNE/parroquias_elecciones/CNE_parroquias_desde2013.shp\", encoding=\"utf-8\")\n",
    "electoral_zones = gpd.read_file(\"/Users/tefaceli/Documents/bases_ecuador/shapefiles/CNE/zonas_electorales_2025/CNE_zonaelectoral_2025.shp\")"
   ]
  },
  {
   "cell_type": "code",
   "execution_count": 20,
   "id": "19f61823-a890-4504-9083-8a17612a8613",
   "metadata": {},
   "outputs": [
    {
     "name": "stdout",
     "output_type": "stream",
     "text": [
      "None\n",
      "EPSG:4326\n"
     ]
    }
   ],
   "source": [
    "print(parishes.crs)\n",
    "print(electoral_zones.crs)"
   ]
  },
  {
   "cell_type": "code",
   "execution_count": 21,
   "id": "6bc745c9-e01e-46b0-a42f-3b3e7b47fa63",
   "metadata": {
    "scrolled": true
   },
   "outputs": [
    {
     "data": {
      "text/html": [
       "<div>\n",
       "<style scoped>\n",
       "    .dataframe tbody tr th:only-of-type {\n",
       "        vertical-align: middle;\n",
       "    }\n",
       "\n",
       "    .dataframe tbody tr th {\n",
       "        vertical-align: top;\n",
       "    }\n",
       "\n",
       "    .dataframe thead th {\n",
       "        text-align: right;\n",
       "    }\n",
       "</style>\n",
       "<table border=\"1\" class=\"dataframe\">\n",
       "  <thead>\n",
       "    <tr style=\"text-align: right;\">\n",
       "      <th></th>\n",
       "      <th>OBJECTID</th>\n",
       "      <th>OBJECTID_1</th>\n",
       "      <th>OBJECTID_2</th>\n",
       "      <th>CODPRO</th>\n",
       "      <th>PROVINCIA</th>\n",
       "      <th>CODCAN</th>\n",
       "      <th>CANTON</th>\n",
       "      <th>CODPAR</th>\n",
       "      <th>PARROQUIA</th>\n",
       "      <th>ESTADO</th>\n",
       "      <th>SHAPE_LENG</th>\n",
       "      <th>Shape__Are</th>\n",
       "      <th>Shape__Len</th>\n",
       "      <th>CODPAR_num</th>\n",
       "      <th>CODPAR_n_1</th>\n",
       "      <th>area_km2</th>\n",
       "      <th>dens_km2</th>\n",
       "      <th>dens10_km2</th>\n",
       "      <th>geometry</th>\n",
       "    </tr>\n",
       "  </thead>\n",
       "  <tbody>\n",
       "    <tr>\n",
       "      <th>0</th>\n",
       "      <td>1</td>\n",
       "      <td>2</td>\n",
       "      <td>1</td>\n",
       "      <td>1</td>\n",
       "      <td>AZUAY</td>\n",
       "      <td>260</td>\n",
       "      <td>CUENCA</td>\n",
       "      <td>285</td>\n",
       "      <td>BAÑOS</td>\n",
       "      <td>RURAL</td>\n",
       "      <td>117974.447809</td>\n",
       "      <td>2.537682e+08</td>\n",
       "      <td>118513.712729</td>\n",
       "      <td>NaN</td>\n",
       "      <td>NaN</td>\n",
       "      <td>251.395</td>\n",
       "      <td>86.788</td>\n",
       "      <td>65.013</td>\n",
       "      <td>POLYGON ((-79.07125 -2.89521, -79.07122 -2.895...</td>\n",
       "    </tr>\n",
       "  </tbody>\n",
       "</table>\n",
       "</div>"
      ],
      "text/plain": [
       "   OBJECTID  OBJECTID_1  OBJECTID_2 CODPRO PROVINCIA  CODCAN  CANTON CODPAR  \\\n",
       "0         1           2           1      1     AZUAY     260  CUENCA    285   \n",
       "\n",
       "  PARROQUIA ESTADO     SHAPE_LENG    Shape__Are     Shape__Len  CODPAR_num  \\\n",
       "0     BAÑOS  RURAL  117974.447809  2.537682e+08  118513.712729         NaN   \n",
       "\n",
       "   CODPAR_n_1  area_km2  dens_km2  dens10_km2  \\\n",
       "0         NaN   251.395    86.788      65.013   \n",
       "\n",
       "                                            geometry  \n",
       "0  POLYGON ((-79.07125 -2.89521, -79.07122 -2.895...  "
      ]
     },
     "execution_count": 21,
     "metadata": {},
     "output_type": "execute_result"
    }
   ],
   "source": [
    "parishes.set_crs(\"EPSG:4326\", inplace=True).head(1)"
   ]
  },
  {
   "cell_type": "code",
   "execution_count": 22,
   "id": "df3be70f-bc32-4ac8-85f9-cffb00482b0e",
   "metadata": {},
   "outputs": [
    {
     "data": {
      "text/plain": [
       "<Geographic 2D CRS: EPSG:4326>\n",
       "Name: WGS 84\n",
       "Axis Info [ellipsoidal]:\n",
       "- Lat[north]: Geodetic latitude (degree)\n",
       "- Lon[east]: Geodetic longitude (degree)\n",
       "Area of Use:\n",
       "- name: World.\n",
       "- bounds: (-180.0, -90.0, 180.0, 90.0)\n",
       "Datum: World Geodetic System 1984 ensemble\n",
       "- Ellipsoid: WGS 84\n",
       "- Prime Meridian: Greenwich"
      ]
     },
     "execution_count": 22,
     "metadata": {},
     "output_type": "execute_result"
    }
   ],
   "source": [
    "df[\"geometry\"] = df.apply(lambda row: Point(row[\"coordenada_x\"], row[\"coordenada_y\"]), axis=1)\n",
    "murders_gdf = gpd.GeoDataFrame(df, geometry=\"geometry\", crs=\"EPSG:4326\")\n",
    "\n",
    "murders_gdf.head()\n",
    "murders_gdf.crs"
   ]
  },
  {
   "cell_type": "code",
   "execution_count": 23,
   "id": "5e24c997-9df6-4d46-a2d6-fedd978a984d",
   "metadata": {},
   "outputs": [],
   "source": [
    "murders_with_parishes = gpd.sjoin(\n",
    "    murders_gdf,\n",
    "    parishes[[\"PARROQUIA\", \"geometry\"]],\n",
    "    how=\"left\",\n",
    "    predicate=\"within\"\n",
    ")\n",
    "\n",
    "murders_with_parishes = murders_with_parishes.drop(columns={\"index_right\"})"
   ]
  },
  {
   "cell_type": "code",
   "execution_count": 24,
   "id": "cc70369b-db59-449d-aefa-f14612f05623",
   "metadata": {},
   "outputs": [
    {
     "data": {
      "text/plain": [
       "Index(['OBJECTID_1', 'OBJECTID', 'CODPRO', 'PROVINCIA', 'CODCAN', 'CANTON',\n",
       "       'CODPAR', 'PARROQUIA', 'CODZON', 'ZONA', 'TIPO', 'SHAPE_LENG', 'AÑO',\n",
       "       'COMENTARIO', 'NUMELE_ZON', 'NUMELEHOM', 'NUMELEMUJ', 'NUMJUN_ZON',\n",
       "       'NUMJUNHOM', 'NUMJUNMUJ', 'Shape__Are', 'Shape__Len', 'geometry'],\n",
       "      dtype='object')"
      ]
     },
     "execution_count": 24,
     "metadata": {},
     "output_type": "execute_result"
    }
   ],
   "source": [
    "electoral_zones.columns"
   ]
  },
  {
   "cell_type": "code",
   "execution_count": 25,
   "id": "f533f89c-61df-49f8-983e-45d4f1a2c2b1",
   "metadata": {},
   "outputs": [],
   "source": [
    "murders_with_zones = gpd.sjoin(\n",
    "    murders_with_parishes,\n",
    "    electoral_zones[[\"ZONA\", \"geometry\"]],\n",
    "    how=\"left\",\n",
    "    predicate=\"within\"\n",
    ")\n",
    "\n",
    "murders_with_zones = murders_with_zones.drop(columns={\"index_right\"})"
   ]
  },
  {
   "cell_type": "code",
   "execution_count": 26,
   "id": "c221acf1-9716-4f67-9bca-68f69576fe29",
   "metadata": {},
   "outputs": [
    {
     "data": {
      "text/plain": [
       "ZONA\n",
       "False    15016\n",
       "True      4318\n",
       "Name: count, dtype: int64"
      ]
     },
     "execution_count": 26,
     "metadata": {},
     "output_type": "execute_result"
    }
   ],
   "source": [
    "murders_with_zones[\"ZONA\"].isna().value_counts()"
   ]
  },
  {
   "cell_type": "code",
   "execution_count": 27,
   "id": "d91da68e-4ddc-4cce-97e5-d22d4e620450",
   "metadata": {},
   "outputs": [
    {
     "name": "stdout",
     "output_type": "stream",
     "text": [
      "Points with no parish: 10\n"
     ]
    },
    {
     "data": {
      "text/html": [
       "<div>\n",
       "<style scoped>\n",
       "    .dataframe tbody tr th:only-of-type {\n",
       "        vertical-align: middle;\n",
       "    }\n",
       "\n",
       "    .dataframe tbody tr th {\n",
       "        vertical-align: top;\n",
       "    }\n",
       "\n",
       "    .dataframe thead th {\n",
       "        text-align: right;\n",
       "    }\n",
       "</style>\n",
       "<table border=\"1\" class=\"dataframe\">\n",
       "  <thead>\n",
       "    <tr style=\"text-align: right;\">\n",
       "      <th></th>\n",
       "      <th>coordenada_y</th>\n",
       "      <th>coordenada_x</th>\n",
       "    </tr>\n",
       "  </thead>\n",
       "  <tbody>\n",
       "    <tr>\n",
       "      <th>12</th>\n",
       "      <td>-2.20682</td>\n",
       "      <td>-80.94953</td>\n",
       "    </tr>\n",
       "    <tr>\n",
       "      <th>348</th>\n",
       "      <td>-1.64709</td>\n",
       "      <td>-80.82708</td>\n",
       "    </tr>\n",
       "    <tr>\n",
       "      <th>1067</th>\n",
       "      <td>-0.84813</td>\n",
       "      <td>-80.53371</td>\n",
       "    </tr>\n",
       "    <tr>\n",
       "      <th>1070</th>\n",
       "      <td>-0.84787</td>\n",
       "      <td>-80.53345</td>\n",
       "    </tr>\n",
       "    <tr>\n",
       "      <th>1071</th>\n",
       "      <td>-0.84787</td>\n",
       "      <td>-80.53345</td>\n",
       "    </tr>\n",
       "    <tr>\n",
       "      <th>2002</th>\n",
       "      <td>-2.71339</td>\n",
       "      <td>-80.24354</td>\n",
       "    </tr>\n",
       "    <tr>\n",
       "      <th>2010</th>\n",
       "      <td>-2.71305</td>\n",
       "      <td>-80.24254</td>\n",
       "    </tr>\n",
       "    <tr>\n",
       "      <th>9381</th>\n",
       "      <td>0.99069</td>\n",
       "      <td>-79.64999</td>\n",
       "    </tr>\n",
       "    <tr>\n",
       "      <th>13885</th>\n",
       "      <td>-0.51700</td>\n",
       "      <td>-80.44330</td>\n",
       "    </tr>\n",
       "    <tr>\n",
       "      <th>18828</th>\n",
       "      <td>-2.00762</td>\n",
       "      <td>-80.74961</td>\n",
       "    </tr>\n",
       "  </tbody>\n",
       "</table>\n",
       "</div>"
      ],
      "text/plain": [
       "       coordenada_y  coordenada_x\n",
       "12         -2.20682     -80.94953\n",
       "348        -1.64709     -80.82708\n",
       "1067       -0.84813     -80.53371\n",
       "1070       -0.84787     -80.53345\n",
       "1071       -0.84787     -80.53345\n",
       "2002       -2.71339     -80.24354\n",
       "2010       -2.71305     -80.24254\n",
       "9381        0.99069     -79.64999\n",
       "13885      -0.51700     -80.44330\n",
       "18828      -2.00762     -80.74961"
      ]
     },
     "execution_count": 27,
     "metadata": {},
     "output_type": "execute_result"
    }
   ],
   "source": [
    "missing_parish = murders_with_zones[murders_with_zones[\"PARROQUIA\"].isna()]\n",
    "print(f\"Points with no parish: {len(missing_parish)}\")\n",
    "missing_parish[[\"coordenada_y\", \"coordenada_x\"]]"
   ]
  },
  {
   "cell_type": "code",
   "execution_count": 28,
   "id": "f52e1cb6-2355-44dd-ab83-ddaaee8784a8",
   "metadata": {},
   "outputs": [
    {
     "data": {
      "image/png": "[encoded data removed]",
      "text/plain": [
       "<Figure size 1000x1000 with 1 Axes>"
      ]
     },
     "metadata": {},
     "output_type": "display_data"
    }
   ],
   "source": [
    "fig, ax = plt.subplots(figsize=(10,10))\n",
    "\n",
    "parishes.boundary.plot(ax=ax, edgecolor='black')\n",
    "missing_parish.plot(ax=ax, color='red', markersize=50)\n",
    "\n",
    "ax.set_title(\"Murders with no parish assigned (red)\")\n",
    "plt.show()"
   ]
  },
  {
   "cell_type": "code",
   "execution_count": 29,
   "id": "2b54cbae-2eed-486e-acac-7138c50aff2a",
   "metadata": {},
   "outputs": [
    {
     "name": "stderr",
     "output_type": "stream",
     "text": [
      "/var/folders/g1/ld0klj_s7bxf96phwdd6v4t80000gn/T/ipykernel_10250/2136321656.py:2: UserWarning: Geometry is in a geographic CRS. Results from 'buffer' are likely incorrect. Use 'GeoSeries.to_crs()' to re-project geometries to a projected CRS before this operation.\n",
      "\n",
      "  parishes_buffered[\"geometry\"] = parishes_buffered.geometry.buffer(0.0008)\n"
     ]
    }
   ],
   "source": [
    "parishes_buffered = parishes.copy()\n",
    "parishes_buffered[\"geometry\"] = parishes_buffered.geometry.buffer(0.0008)"
   ]
  },
  {
   "cell_type": "code",
   "execution_count": 30,
   "id": "55da54eb-25dc-42ca-ae28-f7503ddeb4b9",
   "metadata": {},
   "outputs": [],
   "source": [
    "missing_points_with_buffer = gpd.sjoin(\n",
    "    missing_parish.drop(columns= [\"PARROQUIA\"]),\n",
    "    parishes_buffered[[\"PARROQUIA\", \"geometry\"]],\n",
    "    how=\"left\",\n",
    "    predicate=\"within\"\n",
    ")"
   ]
  },
  {
   "cell_type": "code",
   "execution_count": 31,
   "id": "db867dfe-30e6-490a-9b2c-3003ac1cb295",
   "metadata": {},
   "outputs": [
    {
     "data": {
      "text/html": [
       "<div>\n",
       "<style scoped>\n",
       "    .dataframe tbody tr th:only-of-type {\n",
       "        vertical-align: middle;\n",
       "    }\n",
       "\n",
       "    .dataframe tbody tr th {\n",
       "        vertical-align: top;\n",
       "    }\n",
       "\n",
       "    .dataframe thead th {\n",
       "        text-align: right;\n",
       "    }\n",
       "</style>\n",
       "<table border=\"1\" class=\"dataframe\">\n",
       "  <thead>\n",
       "    <tr style=\"text-align: right;\">\n",
       "      <th></th>\n",
       "      <th>tipo_muerte</th>\n",
       "      <th>provincia</th>\n",
       "      <th>codigo_provincia</th>\n",
       "      <th>canton</th>\n",
       "      <th>codigo_canton</th>\n",
       "      <th>coordenada_y</th>\n",
       "      <th>coordenada_x</th>\n",
       "      <th>area_hecho</th>\n",
       "      <th>lugar</th>\n",
       "      <th>tipo_lugar</th>\n",
       "      <th>...</th>\n",
       "      <th>profesion_registro_civil</th>\n",
       "      <th>instruccion</th>\n",
       "      <th>antecedentes</th>\n",
       "      <th>datetime</th>\n",
       "      <th>weekday</th>\n",
       "      <th>daytime</th>\n",
       "      <th>geometry</th>\n",
       "      <th>ZONA</th>\n",
       "      <th>index_right</th>\n",
       "      <th>PARROQUIA</th>\n",
       "    </tr>\n",
       "  </thead>\n",
       "  <tbody>\n",
       "    <tr>\n",
       "      <th>12</th>\n",
       "      <td>ASESINATO</td>\n",
       "      <td>SANTA ELENA</td>\n",
       "      <td>24</td>\n",
       "      <td>SALINAS</td>\n",
       "      <td>2403</td>\n",
       "      <td>-2.20682</td>\n",
       "      <td>-80.94953</td>\n",
       "      <td>URBANO</td>\n",
       "      <td>RESTAURANTE</td>\n",
       "      <td>PRIVADO</td>\n",
       "      <td>...</td>\n",
       "      <td>ESTUDIANTE</td>\n",
       "      <td>SIN_DATO</td>\n",
       "      <td>NO</td>\n",
       "      <td>2023-09-23 14:10:00</td>\n",
       "      <td>Saturday</td>\n",
       "      <td>afternoon</td>\n",
       "      <td>POINT (-80.94953 -2.20682)</td>\n",
       "      <td>NaN</td>\n",
       "      <td>1215</td>\n",
       "      <td>CARLOS ESPINOZA LARREA</td>\n",
       "    </tr>\n",
       "    <tr>\n",
       "      <th>348</th>\n",
       "      <td>HOMICIDIO</td>\n",
       "      <td>MANABI</td>\n",
       "      <td>13</td>\n",
       "      <td>PUERTO LOPEZ</td>\n",
       "      <td>1319</td>\n",
       "      <td>-1.64709</td>\n",
       "      <td>-80.82708</td>\n",
       "      <td>URBANO</td>\n",
       "      <td>PLAYA</td>\n",
       "      <td>PUBLICO</td>\n",
       "      <td>...</td>\n",
       "      <td>ESTUDIANTE</td>\n",
       "      <td>SIN_DATO</td>\n",
       "      <td>SIN_DATO</td>\n",
       "      <td>2023-05-04 21:40:00</td>\n",
       "      <td>Thursday</td>\n",
       "      <td>evening</td>\n",
       "      <td>POINT (-80.82708 -1.64709)</td>\n",
       "      <td>NaN</td>\n",
       "      <td>814</td>\n",
       "      <td>SALANGO</td>\n",
       "    </tr>\n",
       "    <tr>\n",
       "      <th>1067</th>\n",
       "      <td>ASESINATO</td>\n",
       "      <td>MANABI</td>\n",
       "      <td>13</td>\n",
       "      <td>PORTOVIEJO</td>\n",
       "      <td>1301</td>\n",
       "      <td>-0.84813</td>\n",
       "      <td>-80.53371</td>\n",
       "      <td>URBANO</td>\n",
       "      <td>CASA/VILLA</td>\n",
       "      <td>PRIVADO</td>\n",
       "      <td>...</td>\n",
       "      <td>MILITAR</td>\n",
       "      <td>SIN_DATO</td>\n",
       "      <td>NO</td>\n",
       "      <td>2024-05-29 18:45:00</td>\n",
       "      <td>Wednesday</td>\n",
       "      <td>evening</td>\n",
       "      <td>POINT (-80.53371 -0.84813)</td>\n",
       "      <td>NaN</td>\n",
       "      <td>723</td>\n",
       "      <td>CRUCITA</td>\n",
       "    </tr>\n",
       "    <tr>\n",
       "      <th>1070</th>\n",
       "      <td>ASESINATO</td>\n",
       "      <td>MANABI</td>\n",
       "      <td>13</td>\n",
       "      <td>PORTOVIEJO</td>\n",
       "      <td>1301</td>\n",
       "      <td>-0.84787</td>\n",
       "      <td>-80.53345</td>\n",
       "      <td>RURAL</td>\n",
       "      <td>MAR</td>\n",
       "      <td>PUBLICO</td>\n",
       "      <td>...</td>\n",
       "      <td>ESTUDIANTE</td>\n",
       "      <td>SIN_DATO</td>\n",
       "      <td>NO</td>\n",
       "      <td>2023-08-21 14:30:00</td>\n",
       "      <td>Monday</td>\n",
       "      <td>afternoon</td>\n",
       "      <td>POINT (-80.53345 -0.84787)</td>\n",
       "      <td>NaN</td>\n",
       "      <td>723</td>\n",
       "      <td>CRUCITA</td>\n",
       "    </tr>\n",
       "    <tr>\n",
       "      <th>1071</th>\n",
       "      <td>ASESINATO</td>\n",
       "      <td>MANABI</td>\n",
       "      <td>13</td>\n",
       "      <td>PORTOVIEJO</td>\n",
       "      <td>1301</td>\n",
       "      <td>-0.84787</td>\n",
       "      <td>-80.53345</td>\n",
       "      <td>RURAL</td>\n",
       "      <td>MAR</td>\n",
       "      <td>PUBLICO</td>\n",
       "      <td>...</td>\n",
       "      <td>SIN_DATO</td>\n",
       "      <td>SIN_DATO</td>\n",
       "      <td>NO</td>\n",
       "      <td>2023-08-21 14:30:00</td>\n",
       "      <td>Monday</td>\n",
       "      <td>afternoon</td>\n",
       "      <td>POINT (-80.53345 -0.84787)</td>\n",
       "      <td>NaN</td>\n",
       "      <td>723</td>\n",
       "      <td>CRUCITA</td>\n",
       "    </tr>\n",
       "    <tr>\n",
       "      <th>2002</th>\n",
       "      <td>ASESINATO</td>\n",
       "      <td>GUAYAS</td>\n",
       "      <td>9</td>\n",
       "      <td>GUAYAQUIL</td>\n",
       "      <td>901</td>\n",
       "      <td>-2.71339</td>\n",
       "      <td>-80.24354</td>\n",
       "      <td>URBANO</td>\n",
       "      <td>VIA PUBLICA</td>\n",
       "      <td>PUBLICO</td>\n",
       "      <td>...</td>\n",
       "      <td>COMERCIANTE</td>\n",
       "      <td>SIN_DATO</td>\n",
       "      <td>SI</td>\n",
       "      <td>2023-02-27 03:30:00</td>\n",
       "      <td>Monday</td>\n",
       "      <td>night</td>\n",
       "      <td>POINT (-80.24354 -2.71339)</td>\n",
       "      <td>NaN</td>\n",
       "      <td>452</td>\n",
       "      <td>POSORJA</td>\n",
       "    </tr>\n",
       "    <tr>\n",
       "      <th>2010</th>\n",
       "      <td>ASESINATO</td>\n",
       "      <td>GUAYAS</td>\n",
       "      <td>9</td>\n",
       "      <td>GUAYAQUIL</td>\n",
       "      <td>901</td>\n",
       "      <td>-2.71305</td>\n",
       "      <td>-80.24254</td>\n",
       "      <td>RURAL</td>\n",
       "      <td>MAR</td>\n",
       "      <td>PUBLICO</td>\n",
       "      <td>...</td>\n",
       "      <td>EMPLEADO</td>\n",
       "      <td>SIN_DATO</td>\n",
       "      <td>NO</td>\n",
       "      <td>2023-11-26 17:15:00</td>\n",
       "      <td>Sunday</td>\n",
       "      <td>afternoon</td>\n",
       "      <td>POINT (-80.24254 -2.71305)</td>\n",
       "      <td>NaN</td>\n",
       "      <td>452</td>\n",
       "      <td>POSORJA</td>\n",
       "    </tr>\n",
       "    <tr>\n",
       "      <th>9381</th>\n",
       "      <td>ASESINATO</td>\n",
       "      <td>ESMERALDAS</td>\n",
       "      <td>8</td>\n",
       "      <td>ESMERALDAS</td>\n",
       "      <td>801</td>\n",
       "      <td>0.99069</td>\n",
       "      <td>-79.64999</td>\n",
       "      <td>URBANO</td>\n",
       "      <td>MAR</td>\n",
       "      <td>PUBLICO</td>\n",
       "      <td>...</td>\n",
       "      <td>EMPLEADO</td>\n",
       "      <td>SIN_DATO</td>\n",
       "      <td>NO</td>\n",
       "      <td>2023-03-06 09:20:00</td>\n",
       "      <td>Monday</td>\n",
       "      <td>morning</td>\n",
       "      <td>POINT (-79.64999 0.99069)</td>\n",
       "      <td>NaN</td>\n",
       "      <td>387</td>\n",
       "      <td>LUIS TELLO / LAS PALMAS /</td>\n",
       "    </tr>\n",
       "    <tr>\n",
       "      <th>13885</th>\n",
       "      <td>ASESINATO</td>\n",
       "      <td>MANABI</td>\n",
       "      <td>13</td>\n",
       "      <td>SAN VICENTE</td>\n",
       "      <td>1322</td>\n",
       "      <td>-0.51700</td>\n",
       "      <td>-80.44330</td>\n",
       "      <td>RURAL</td>\n",
       "      <td>PLAYA</td>\n",
       "      <td>PUBLICO</td>\n",
       "      <td>...</td>\n",
       "      <td>SIN_DATO</td>\n",
       "      <td>SIN_DATO</td>\n",
       "      <td>NO</td>\n",
       "      <td>2023-11-20 10:00:00</td>\n",
       "      <td>Monday</td>\n",
       "      <td>morning</td>\n",
       "      <td>POINT (-80.4433 -0.517)</td>\n",
       "      <td>NaN</td>\n",
       "      <td>779</td>\n",
       "      <td>CANOA</td>\n",
       "    </tr>\n",
       "    <tr>\n",
       "      <th>18828</th>\n",
       "      <td>ASESINATO</td>\n",
       "      <td>SANTA ELENA</td>\n",
       "      <td>24</td>\n",
       "      <td>SANTA ELENA</td>\n",
       "      <td>2401</td>\n",
       "      <td>-2.00762</td>\n",
       "      <td>-80.74961</td>\n",
       "      <td>RURAL</td>\n",
       "      <td>MAR</td>\n",
       "      <td>PUBLICO</td>\n",
       "      <td>...</td>\n",
       "      <td>SIN_DATO</td>\n",
       "      <td>SIN_DATO</td>\n",
       "      <td>NaN</td>\n",
       "      <td>2025-05-08 13:30:00</td>\n",
       "      <td>Thursday</td>\n",
       "      <td>noon</td>\n",
       "      <td>POINT (-80.74961 -2.00762)</td>\n",
       "      <td>NaN</td>\n",
       "      <td>1218</td>\n",
       "      <td>COLONCHE</td>\n",
       "    </tr>\n",
       "  </tbody>\n",
       "</table>\n",
       "<p>10 rows × 33 columns</p>\n",
       "</div>"
      ],
      "text/plain": [
       "      tipo_muerte    provincia  codigo_provincia        canton  codigo_canton  \\\n",
       "12      ASESINATO  SANTA ELENA                24       SALINAS           2403   \n",
       "348     HOMICIDIO       MANABI                13  PUERTO LOPEZ           1319   \n",
       "1067    ASESINATO       MANABI                13    PORTOVIEJO           1301   \n",
       "1070    ASESINATO       MANABI                13    PORTOVIEJO           1301   \n",
       "1071    ASESINATO       MANABI                13    PORTOVIEJO           1301   \n",
       "2002    ASESINATO       GUAYAS                 9     GUAYAQUIL            901   \n",
       "2010    ASESINATO       GUAYAS                 9     GUAYAQUIL            901   \n",
       "9381    ASESINATO   ESMERALDAS                 8    ESMERALDAS            801   \n",
       "13885   ASESINATO       MANABI                13   SAN VICENTE           1322   \n",
       "18828   ASESINATO  SANTA ELENA                24   SANTA ELENA           2401   \n",
       "\n",
       "       coordenada_y  coordenada_x area_hecho        lugar tipo_lugar  ...  \\\n",
       "12         -2.20682     -80.94953     URBANO  RESTAURANTE    PRIVADO  ...   \n",
       "348        -1.64709     -80.82708     URBANO        PLAYA    PUBLICO  ...   \n",
       "1067       -0.84813     -80.53371     URBANO   CASA/VILLA    PRIVADO  ...   \n",
       "1070       -0.84787     -80.53345      RURAL          MAR    PUBLICO  ...   \n",
       "1071       -0.84787     -80.53345      RURAL          MAR    PUBLICO  ...   \n",
       "2002       -2.71339     -80.24354     URBANO  VIA PUBLICA    PUBLICO  ...   \n",
       "2010       -2.71305     -80.24254      RURAL          MAR    PUBLICO  ...   \n",
       "9381        0.99069     -79.64999     URBANO          MAR    PUBLICO  ...   \n",
       "13885      -0.51700     -80.44330      RURAL        PLAYA    PUBLICO  ...   \n",
       "18828      -2.00762     -80.74961      RURAL          MAR    PUBLICO  ...   \n",
       "\n",
       "      profesion_registro_civil instruccion antecedentes            datetime  \\\n",
       "12                  ESTUDIANTE    SIN_DATO           NO 2023-09-23 14:10:00   \n",
       "348                 ESTUDIANTE    SIN_DATO     SIN_DATO 2023-05-04 21:40:00   \n",
       "1067                   MILITAR    SIN_DATO           NO 2024-05-29 18:45:00   \n",
       "1070                ESTUDIANTE    SIN_DATO           NO 2023-08-21 14:30:00   \n",
       "1071                  SIN_DATO    SIN_DATO           NO 2023-08-21 14:30:00   \n",
       "2002               COMERCIANTE    SIN_DATO           SI 2023-02-27 03:30:00   \n",
       "2010                  EMPLEADO    SIN_DATO           NO 2023-11-26 17:15:00   \n",
       "9381                  EMPLEADO    SIN_DATO           NO 2023-03-06 09:20:00   \n",
       "13885                 SIN_DATO    SIN_DATO           NO 2023-11-20 10:00:00   \n",
       "18828                 SIN_DATO    SIN_DATO          NaN 2025-05-08 13:30:00   \n",
       "\n",
       "         weekday    daytime                    geometry ZONA index_right  \\\n",
       "12      Saturday  afternoon  POINT (-80.94953 -2.20682)  NaN        1215   \n",
       "348     Thursday    evening  POINT (-80.82708 -1.64709)  NaN         814   \n",
       "1067   Wednesday    evening  POINT (-80.53371 -0.84813)  NaN         723   \n",
       "1070      Monday  afternoon  POINT (-80.53345 -0.84787)  NaN         723   \n",
       "1071      Monday  afternoon  POINT (-80.53345 -0.84787)  NaN         723   \n",
       "2002      Monday      night  POINT (-80.24354 -2.71339)  NaN         452   \n",
       "2010      Sunday  afternoon  POINT (-80.24254 -2.71305)  NaN         452   \n",
       "9381      Monday    morning   POINT (-79.64999 0.99069)  NaN         387   \n",
       "13885     Monday    morning     POINT (-80.4433 -0.517)  NaN         779   \n",
       "18828   Thursday       noon  POINT (-80.74961 -2.00762)  NaN        1218   \n",
       "\n",
       "                       PARROQUIA  \n",
       "12        CARLOS ESPINOZA LARREA  \n",
       "348                      SALANGO  \n",
       "1067                     CRUCITA  \n",
       "1070                     CRUCITA  \n",
       "1071                     CRUCITA  \n",
       "2002                     POSORJA  \n",
       "2010                     POSORJA  \n",
       "9381   LUIS TELLO / LAS PALMAS /  \n",
       "13885                      CANOA  \n",
       "18828                   COLONCHE  \n",
       "\n",
       "[10 rows x 33 columns]"
      ]
     },
     "execution_count": 31,
     "metadata": {},
     "output_type": "execute_result"
    }
   ],
   "source": [
    "missing_points_with_buffer"
   ]
  },
  {
   "cell_type": "code",
   "execution_count": 32,
   "id": "033879b7-06d7-4dd6-830e-a2ca0b3112b9",
   "metadata": {},
   "outputs": [
    {
     "data": {
      "text/plain": [
       "PARROQUIA\n",
       "False    19334\n",
       "Name: count, dtype: int64"
      ]
     },
     "execution_count": 32,
     "metadata": {},
     "output_type": "execute_result"
    }
   ],
   "source": [
    "murders_with_zones.loc[missing_points_with_buffer.index, \"PARROQUIA\"] = missing_points_with_buffer[\"PARROQUIA\"]\n",
    "murders_with_zones[\"PARROQUIA\"].isna().value_counts()"
   ]
  },
  {
   "cell_type": "code",
   "execution_count": 33,
   "id": "16f12c8c-1178-46d2-ba32-90a465ebbff4",
   "metadata": {},
   "outputs": [],
   "source": [
    "df = murders_with_zones"
   ]
  },
  {
   "cell_type": "code",
   "execution_count": 34,
   "id": "8c4d5a7a-5d81-4694-818d-b483277d6abd",
   "metadata": {},
   "outputs": [
    {
     "data": {
      "text/plain": [
       "Index(['tipo_muerte', 'provincia', 'codigo_provincia', 'canton',\n",
       "       'codigo_canton', 'coordenada_y', 'coordenada_x', 'area_hecho', 'lugar',\n",
       "       'tipo_lugar', 'arma', 'tipo_arma', 'presunta_motivacion',\n",
       "       'presun_motiva_observada', 'probable_causa_motivada', 'edad',\n",
       "       'medida_edad', 'sexo', 'genero', 'etnia', 'estado_civil',\n",
       "       'nacionalidad', 'discapacidad', 'profesion_registro_civil',\n",
       "       'instruccion', 'antecedentes', 'datetime', 'weekday', 'daytime',\n",
       "       'geometry', 'PARROQUIA', 'ZONA'],\n",
       "      dtype='object')"
      ]
     },
     "execution_count": 34,
     "metadata": {},
     "output_type": "execute_result"
    }
   ],
   "source": [
    "df.columns"
   ]
  },
  {
   "cell_type": "code",
   "execution_count": 35,
   "id": "2a311ea9-6ce9-4e17-a084-09e7cc2f93d9",
   "metadata": {},
   "outputs": [],
   "source": [
    "df = df.drop(columns={\"codigo_provincia\", \"codigo_canton\", \"geometry\"})"
   ]
  },
  {
   "cell_type": "code",
   "execution_count": 36,
   "id": "a793bf1e-ef50-41df-9f6e-70ffd4a37840",
   "metadata": {},
   "outputs": [],
   "source": [
    "df = df.rename(columns={\n",
    "    \"PARROQUIA\": \"parroquia\",\n",
    "    \"ZONA\": \"zona\"}\n",
    ")"
   ]
  },
  {
   "cell_type": "code",
   "execution_count": 37,
   "id": "f5225909-65cf-4232-95a9-6b7accc89506",
   "metadata": {},
   "outputs": [],
   "source": [
    "df = df[['tipo_muerte', 'provincia', 'canton', 'parroquia', 'zona',\n",
    "         'coordenada_y', 'coordenada_x', 'area_hecho', 'lugar', 'tipo_lugar',\n",
    "         'arma', 'tipo_arma', 'presunta_motivacion', 'presun_motiva_observada',\n",
    "         'probable_causa_motivada', 'edad', 'medida_edad', 'sexo', 'genero',\n",
    "         'etnia', 'estado_civil', 'nacionalidad', 'discapacidad',\n",
    "         'profesion_registro_civil', 'instruccion', 'antecedentes',\n",
    "         'datetime', 'weekday', 'daytime']]"
   ]
  },
  {
   "cell_type": "code",
   "execution_count": 38,
   "id": "0aecb3af-0443-42dd-9881-6f0243bcc3bb",
   "metadata": {},
   "outputs": [],
   "source": [
    "df.to_csv(\"data/analysis/data_parroquias_zonas.csv\", index=False)"
   ]
  },
  {
   "cell_type": "markdown",
   "id": "4d2efac5-38e9-4352-a5a7-6d05b8431761",
   "metadata": {},
   "source": [
    "## Analysis by parish"
   ]
  },
  {
   "cell_type": "code",
   "execution_count": 39,
   "id": "0cb61570-fe93-47ac-9d05-c23445e8019f",
   "metadata": {
    "scrolled": true
   },
   "outputs": [
    {
     "data": {
      "text/html": [
       "<div>\n",
       "<style scoped>\n",
       "    .dataframe tbody tr th:only-of-type {\n",
       "        vertical-align: middle;\n",
       "    }\n",
       "\n",
       "    .dataframe tbody tr th {\n",
       "        vertical-align: top;\n",
       "    }\n",
       "\n",
       "    .dataframe thead th {\n",
       "        text-align: right;\n",
       "    }\n",
       "</style>\n",
       "<table border=\"1\" class=\"dataframe\">\n",
       "  <thead>\n",
       "    <tr style=\"text-align: right;\">\n",
       "      <th></th>\n",
       "      <th>count</th>\n",
       "    </tr>\n",
       "    <tr>\n",
       "      <th>parroquia</th>\n",
       "      <th></th>\n",
       "    </tr>\n",
       "  </thead>\n",
       "  <tbody>\n",
       "    <tr>\n",
       "      <th>PASCUALES</th>\n",
       "      <td>1857</td>\n",
       "    </tr>\n",
       "    <tr>\n",
       "      <th>XIMENA</th>\n",
       "      <td>1414</td>\n",
       "    </tr>\n",
       "    <tr>\n",
       "      <th>TARQUI</th>\n",
       "      <td>1324</td>\n",
       "    </tr>\n",
       "    <tr>\n",
       "      <th>FEBRES CORDERO</th>\n",
       "      <td>684</td>\n",
       "    </tr>\n",
       "    <tr>\n",
       "      <th>DIVINO NIÑO</th>\n",
       "      <td>587</td>\n",
       "    </tr>\n",
       "    <tr>\n",
       "      <th>ELOY ALFARO /DURAN</th>\n",
       "      <td>536</td>\n",
       "    </tr>\n",
       "  </tbody>\n",
       "</table>\n",
       "</div>"
      ],
      "text/plain": [
       "                    count\n",
       "parroquia                \n",
       "PASCUALES            1857\n",
       "XIMENA               1414\n",
       "TARQUI               1324\n",
       "FEBRES CORDERO        684\n",
       "DIVINO NIÑO           587\n",
       "ELOY ALFARO /DURAN    536"
      ]
     },
     "execution_count": 39,
     "metadata": {},
     "output_type": "execute_result"
    }
   ],
   "source": [
    "df[\"parroquia\"].value_counts().head(6).to_frame()"
   ]
  },
  {
   "cell_type": "code",
   "execution_count": 40,
   "id": "0a30c49a-c420-4df3-b0cd-37445670f73c",
   "metadata": {},
   "outputs": [
    {
     "data": {
      "text/plain": [
       "array(['MONTE SINAI', 'CIUDAD VICTORIA', 'SAN FRANCISCO', 'SERGIO TORAL',\n",
       "       'PUENTE LUCIA', 'CAPEIRA', 'FLOR DE BASTIÓN', 'BALERIO ESTACIO',\n",
       "       'EL PARAISO DE LA FLOR', 'EL FORTÍN', 'MONTEBELLO',\n",
       "       'PASCUALES (INCLUYE VOTO EN CASA)', 'LAS ORQUIDEAS - MUCHO LOTE',\n",
       "       'BASTIÓN POPULAR', 'METROPOLIS', 'LOS VERGELES'], dtype=object)"
      ]
     },
     "execution_count": 40,
     "metadata": {},
     "output_type": "execute_result"
    }
   ],
   "source": [
    "df[df[\"parroquia\"] == \"PASCUALES\"][\"zona\"].unique()"
   ]
  },
  {
   "cell_type": "code",
   "execution_count": 41,
   "id": "17b02dfc-bf8f-4ddd-b3d3-f420a8cde481",
   "metadata": {},
   "outputs": [
    {
     "data": {
      "text/plain": [
       "array(['SECAP', 'DIVINO NIÑO', 'HÉCTOR COBOS'], dtype=object)"
      ]
     },
     "execution_count": 41,
     "metadata": {},
     "output_type": "execute_result"
    }
   ],
   "source": [
    "df[df[\"parroquia\"] == \"DIVINO NIÑO\"][\"zona\"].unique()"
   ]
  },
  {
   "cell_type": "code",
   "execution_count": 42,
   "id": "0afb03ba-1d72-44a8-80a4-c9f983ffa864",
   "metadata": {},
   "outputs": [
    {
     "data": {
      "text/html": [
       "<div>\n",
       "<style scoped>\n",
       "    .dataframe tbody tr th:only-of-type {\n",
       "        vertical-align: middle;\n",
       "    }\n",
       "\n",
       "    .dataframe tbody tr th {\n",
       "        vertical-align: top;\n",
       "    }\n",
       "\n",
       "    .dataframe thead th {\n",
       "        text-align: right;\n",
       "    }\n",
       "</style>\n",
       "<table border=\"1\" class=\"dataframe\">\n",
       "  <thead>\n",
       "    <tr style=\"text-align: right;\">\n",
       "      <th></th>\n",
       "      <th>datetime</th>\n",
       "    </tr>\n",
       "    <tr>\n",
       "      <th>parroquia</th>\n",
       "      <th></th>\n",
       "    </tr>\n",
       "  </thead>\n",
       "  <tbody>\n",
       "    <tr>\n",
       "      <th>PASCUALES</th>\n",
       "      <td>681</td>\n",
       "    </tr>\n",
       "    <tr>\n",
       "      <th>XIMENA</th>\n",
       "      <td>633</td>\n",
       "    </tr>\n",
       "    <tr>\n",
       "      <th>TARQUI</th>\n",
       "      <td>627</td>\n",
       "    </tr>\n",
       "    <tr>\n",
       "      <th>FEBRES CORDERO</th>\n",
       "      <td>405</td>\n",
       "    </tr>\n",
       "    <tr>\n",
       "      <th>ELOY ALFARO /DURAN</th>\n",
       "      <td>324</td>\n",
       "    </tr>\n",
       "    <tr>\n",
       "      <th>DIVINO NIÑO</th>\n",
       "      <td>301</td>\n",
       "    </tr>\n",
       "  </tbody>\n",
       "</table>\n",
       "</div>"
      ],
      "text/plain": [
       "                    datetime\n",
       "parroquia                   \n",
       "PASCUALES                681\n",
       "XIMENA                   633\n",
       "TARQUI                   627\n",
       "FEBRES CORDERO           405\n",
       "ELOY ALFARO /DURAN       324\n",
       "DIVINO NIÑO              301"
      ]
     },
     "execution_count": 42,
     "metadata": {},
     "output_type": "execute_result"
    }
   ],
   "source": [
    "df.groupby(\"parroquia\")[\"datetime\"].apply(lambda s: s.dt.date.nunique()).sort_values(ascending=False).head(6).to_frame()"
   ]
  },
  {
   "cell_type": "code",
   "execution_count": 43,
   "id": "77cc69b3-684a-4760-b9d0-1f0c81ab27ae",
   "metadata": {},
   "outputs": [
    {
     "data": {
      "text/html": [
       "<div>\n",
       "<style scoped>\n",
       "    .dataframe tbody tr th:only-of-type {\n",
       "        vertical-align: middle;\n",
       "    }\n",
       "\n",
       "    .dataframe tbody tr th {\n",
       "        vertical-align: top;\n",
       "    }\n",
       "\n",
       "    .dataframe thead th {\n",
       "        text-align: right;\n",
       "    }\n",
       "</style>\n",
       "<table border=\"1\" class=\"dataframe\">\n",
       "  <thead>\n",
       "    <tr style=\"text-align: right;\">\n",
       "      <th></th>\n",
       "      <th>count</th>\n",
       "    </tr>\n",
       "    <tr>\n",
       "      <th>parroquia</th>\n",
       "      <th></th>\n",
       "    </tr>\n",
       "  </thead>\n",
       "  <tbody>\n",
       "    <tr>\n",
       "      <th>PASCUALES</th>\n",
       "      <td>459</td>\n",
       "    </tr>\n",
       "    <tr>\n",
       "      <th>TARQUI</th>\n",
       "      <td>310</td>\n",
       "    </tr>\n",
       "    <tr>\n",
       "      <th>XIMENA</th>\n",
       "      <td>267</td>\n",
       "    </tr>\n",
       "    <tr>\n",
       "      <th>DIVINO NIÑO</th>\n",
       "      <td>187</td>\n",
       "    </tr>\n",
       "    <tr>\n",
       "      <th>FEBRES CORDERO</th>\n",
       "      <td>186</td>\n",
       "    </tr>\n",
       "  </tbody>\n",
       "</table>\n",
       "</div>"
      ],
      "text/plain": [
       "                count\n",
       "parroquia            \n",
       "PASCUALES         459\n",
       "TARQUI            310\n",
       "XIMENA            267\n",
       "DIVINO NIÑO       187\n",
       "FEBRES CORDERO    186"
      ]
     },
     "execution_count": 43,
     "metadata": {},
     "output_type": "execute_result"
    }
   ],
   "source": [
    "df[df[\"datetime\"].dt.year == 2025][\"parroquia\"].value_counts().head().to_frame()"
   ]
  },
  {
   "cell_type": "code",
   "execution_count": 44,
   "id": "7d58ed84-f865-4595-a058-ca80575cb92f",
   "metadata": {},
   "outputs": [],
   "source": [
    "def longest_consecutive_streak(dates):\n",
    "\n",
    "    dates = pd.to_datetime(pd.Series(dates)).drop_duplicates().sort_values().reset_index(drop=True)\n",
    "\n",
    "    streak_breaks = dates.diff().fillna(pd.Timedelta(days=1)) != pd.Timedelta(days=1)\n",
    "    streak_ids = streak_breaks.cumsum()\n",
    "\n",
    "    grouped = dates.groupby(streak_ids)\n",
    "\n",
    "    longest_id = grouped.size().idxmax()\n",
    "    longest_streak = grouped.get_group(longest_id).dt.date.tolist()\n",
    "\n",
    "    return len(longest_streak), longest_streak"
   ]
  },
  {
   "cell_type": "markdown",
   "id": "25eb7cdf-7c90-40dc-bca4-b0a9ce398c2b",
   "metadata": {},
   "source": [
    "### Pascuales"
   ]
  },
  {
   "cell_type": "code",
   "execution_count": 45,
   "id": "604159ed-5f10-4781-b773-529675966c80",
   "metadata": {},
   "outputs": [
    {
     "data": {
      "text/plain": [
       "681"
      ]
     },
     "execution_count": 45,
     "metadata": {},
     "output_type": "execute_result"
    }
   ],
   "source": [
    "#Number of dates with at least one murder in cluster 30\n",
    "df[df[\"parroquia\"] == \"PASCUALES\"][\"datetime\"].dt.date.nunique()"
   ]
  },
  {
   "cell_type": "code",
   "execution_count": 46,
   "id": "048728bd-22bf-4eef-95e4-d5a933fd7b47",
   "metadata": {
    "scrolled": true
   },
   "outputs": [
    {
     "data": {
      "text/plain": [
       "0.7729852440408627"
      ]
     },
     "execution_count": 46,
     "metadata": {},
     "output_type": "execute_result"
    }
   ],
   "source": [
    "681/881 #881 is the number of days between Jan 1, 2023 and May 31, 2025"
   ]
  },
  {
   "cell_type": "code",
   "execution_count": 47,
   "id": "c4a1fcd5-1064-437c-b99f-b5e900a9b469",
   "metadata": {
    "scrolled": true
   },
   "outputs": [
    {
     "data": {
      "text/plain": [
       "datetime\n",
       "2023-07-23    22\n",
       "2024-11-12    19\n",
       "2024-05-09    15\n",
       "2025-02-23    14\n",
       "2023-05-31    13\n",
       "Name: count, dtype: int64"
      ]
     },
     "execution_count": 47,
     "metadata": {},
     "output_type": "execute_result"
    }
   ],
   "source": [
    "df[df[\"parroquia\"] == \"PASCUALES\"][\"datetime\"].dt.date.value_counts().head() #To check if there were matanzas"
   ]
  },
  {
   "cell_type": "code",
   "execution_count": 48,
   "id": "8949e076-0eab-4dcc-8120-183a8601e726",
   "metadata": {
    "scrolled": true
   },
   "outputs": [
    {
     "data": {
      "text/plain": [
       "datetime\n",
       "2025-02    111\n",
       "2025-03    101\n",
       "2025-01     92\n",
       "2023-05     92\n",
       "2023-06     86\n",
       "Freq: M, Name: count, dtype: int64"
      ]
     },
     "execution_count": 48,
     "metadata": {},
     "output_type": "execute_result"
    }
   ],
   "source": [
    "df[df[\"parroquia\"] == \"PASCUALES\"][\"datetime\"].dt.to_period(\"M\").value_counts().head()"
   ]
  },
  {
   "cell_type": "code",
   "execution_count": 49,
   "id": "7fc33951-3ba2-4641-9e11-3838f56dbf2c",
   "metadata": {},
   "outputs": [
    {
     "name": "stdout",
     "output_type": "stream",
     "text": [
      "Longest streak length: 22 days\n",
      "Dates: 2024-12-01 – 2024-12-22\n"
     ]
    }
   ],
   "source": [
    "pascuales = df[df[\"parroquia\"] == \"PASCUALES\"].copy()\n",
    "pascuales['date'] = pd.to_datetime(pascuales['datetime']).dt.date\n",
    "\n",
    "unique_dates = pascuales['date'].drop_duplicates().sort_values().reset_index(drop=True)\n",
    "\n",
    "length, dates = longest_consecutive_streak(unique_dates)\n",
    "\n",
    "print(f\"Longest streak length: {length} days\")\n",
    "print(f\"Dates: {dates[0]} – {dates[-1]}\")"
   ]
  },
  {
   "cell_type": "markdown",
   "id": "3ec14fe7-5901-4f70-ab26-b0181ba47fa3",
   "metadata": {},
   "source": [
    "### Divino Niño"
   ]
  },
  {
   "cell_type": "code",
   "execution_count": 50,
   "id": "2b0b4f26-2cbf-4c0b-a4e7-22c831361adf",
   "metadata": {},
   "outputs": [
    {
     "data": {
      "text/plain": [
       "301"
      ]
     },
     "execution_count": 50,
     "metadata": {},
     "output_type": "execute_result"
    }
   ],
   "source": [
    "#Number of dates with at least one murder in cluster 30\n",
    "df[df[\"parroquia\"] == \"DIVINO NIÑO\"][\"datetime\"].dt.date.nunique()"
   ]
  },
  {
   "cell_type": "code",
   "execution_count": 51,
   "id": "98845fa9-c0c6-4cb1-a33c-3b75402931e4",
   "metadata": {},
   "outputs": [
    {
     "data": {
      "text/plain": [
       "0.3416572077185017"
      ]
     },
     "execution_count": 51,
     "metadata": {},
     "output_type": "execute_result"
    }
   ],
   "source": [
    "301/881 #881 is the number of days between Jan 1, 2023 and May 31, 2025"
   ]
  },
  {
   "cell_type": "code",
   "execution_count": 54,
   "id": "d2f021dc-5cad-4d4f-90ae-1e256a6b68da",
   "metadata": {},
   "outputs": [
    {
     "data": {
      "text/plain": [
       "datetime\n",
       "2024-10-12    9\n",
       "2024-01-01    9\n",
       "2025-03-04    8\n",
       "2023-12-21    8\n",
       "2025-02-28    8\n",
       "2023-12-31    8\n",
       "2023-11-11    7\n",
       "2025-01-16    7\n",
       "2024-07-31    7\n",
       "2024-09-27    7\n",
       "2024-05-14    6\n",
       "2025-02-22    6\n",
       "2025-02-20    6\n",
       "2025-04-07    6\n",
       "2023-10-29    6\n",
       "Name: count, dtype: int64"
      ]
     },
     "execution_count": 54,
     "metadata": {},
     "output_type": "execute_result"
    }
   ],
   "source": [
    "df[df[\"parroquia\"] == \"DIVINO NIÑO\"][\"datetime\"].dt.date.value_counts().head(15) #To check if there were matanzas"
   ]
  },
  {
   "cell_type": "code",
   "execution_count": 55,
   "id": "bbd124a6-17e9-47f3-ba7b-d1b486575c86",
   "metadata": {},
   "outputs": [
    {
     "data": {
      "text/plain": [
       "datetime\n",
       "2025-02    41\n",
       "2025-01    40\n",
       "2025-03    38\n",
       "2024-09    38\n",
       "2023-11    37\n",
       "Freq: M, Name: count, dtype: int64"
      ]
     },
     "execution_count": 55,
     "metadata": {},
     "output_type": "execute_result"
    }
   ],
   "source": [
    "df[df[\"parroquia\"] == \"DIVINO NIÑO\"][\"datetime\"].dt.to_period(\"M\").value_counts().head()"
   ]
  },
  {
   "cell_type": "code",
   "execution_count": 56,
   "id": "9ecf5961-2c89-4a18-bed4-81ac5ba7920d",
   "metadata": {},
   "outputs": [
    {
     "name": "stdout",
     "output_type": "stream",
     "text": [
      "Longest streak length: 7 days\n",
      "Dates: 2025-02-18 – 2025-02-24\n"
     ]
    }
   ],
   "source": [
    "divino = df[df[\"parroquia\"] == \"DIVINO NIÑO\"].copy()\n",
    "divino['date'] = pd.to_datetime(divino['datetime']).dt.date\n",
    "\n",
    "unique_dates = divino['date'].drop_duplicates().sort_values().reset_index(drop=True)\n",
    "\n",
    "length, dates = longest_consecutive_streak(unique_dates)\n",
    "\n",
    "print(f\"Longest streak length: {length} days\")\n",
    "print(f\"Dates: {dates[0]} – {dates[-1]}\")"
   ]
  },
  {
   "cell_type": "markdown",
   "id": "37bcec14-115b-4d49-82ad-a3e2c049ab67",
   "metadata": {},
   "source": [
    "## Analysis of zones"
   ]
  },
  {
   "cell_type": "code",
   "execution_count": 57,
   "id": "9b2ed24e-86ee-4960-b1aa-5ce960377a2a",
   "metadata": {
    "scrolled": true
   },
   "outputs": [
    {
     "data": {
      "text/html": [
       "<div>\n",
       "<style scoped>\n",
       "    .dataframe tbody tr th:only-of-type {\n",
       "        vertical-align: middle;\n",
       "    }\n",
       "\n",
       "    .dataframe tbody tr th {\n",
       "        vertical-align: top;\n",
       "    }\n",
       "\n",
       "    .dataframe thead th {\n",
       "        text-align: right;\n",
       "    }\n",
       "</style>\n",
       "<table border=\"1\" class=\"dataframe\">\n",
       "  <thead>\n",
       "    <tr style=\"text-align: right;\">\n",
       "      <th></th>\n",
       "      <th>count</th>\n",
       "    </tr>\n",
       "    <tr>\n",
       "      <th>zona</th>\n",
       "      <th></th>\n",
       "    </tr>\n",
       "  </thead>\n",
       "  <tbody>\n",
       "    <tr>\n",
       "      <th>BALERIO ESTACIO</th>\n",
       "      <td>296</td>\n",
       "    </tr>\n",
       "    <tr>\n",
       "      <th>DIVINO NIÑO</th>\n",
       "      <td>273</td>\n",
       "    </tr>\n",
       "    <tr>\n",
       "      <th>SECAP</th>\n",
       "      <td>264</td>\n",
       "    </tr>\n",
       "    <tr>\n",
       "      <th>SAN FRANCISCO</th>\n",
       "      <td>255</td>\n",
       "    </tr>\n",
       "    <tr>\n",
       "      <th>EL PARAISO DE LA FLOR</th>\n",
       "      <td>239</td>\n",
       "    </tr>\n",
       "    <tr>\n",
       "      <th>PASCUALES (INCLUYE VOTO EN CASA)</th>\n",
       "      <td>211</td>\n",
       "    </tr>\n",
       "    <tr>\n",
       "      <th>TARQUI (INCLUYE VOTO EN CASA)</th>\n",
       "      <td>182</td>\n",
       "    </tr>\n",
       "    <tr>\n",
       "      <th>TRINIPUERTO</th>\n",
       "      <td>176</td>\n",
       "    </tr>\n",
       "    <tr>\n",
       "      <th>FLOR DE BASTIÓN</th>\n",
       "      <td>171</td>\n",
       "    </tr>\n",
       "    <tr>\n",
       "      <th>SN JACINTO DE BUENA FE</th>\n",
       "      <td>163</td>\n",
       "    </tr>\n",
       "  </tbody>\n",
       "</table>\n",
       "</div>"
      ],
      "text/plain": [
       "                                  count\n",
       "zona                                   \n",
       "BALERIO ESTACIO                     296\n",
       "DIVINO NIÑO                         273\n",
       "SECAP                               264\n",
       "SAN FRANCISCO                       255\n",
       "EL PARAISO DE LA FLOR               239\n",
       "PASCUALES (INCLUYE VOTO EN CASA)    211\n",
       "TARQUI (INCLUYE VOTO EN CASA)       182\n",
       "TRINIPUERTO                         176\n",
       "FLOR DE BASTIÓN                     171\n",
       "SN JACINTO DE BUENA FE              163"
      ]
     },
     "execution_count": 57,
     "metadata": {},
     "output_type": "execute_result"
    }
   ],
   "source": [
    "df[\"zona\"].value_counts().head(10).to_frame()"
   ]
  },
  {
   "cell_type": "code",
   "execution_count": 58,
   "id": "825a80c7-2316-4319-88e0-1a5581f74a13",
   "metadata": {},
   "outputs": [
    {
     "data": {
      "text/html": [
       "<div>\n",
       "<style scoped>\n",
       "    .dataframe tbody tr th:only-of-type {\n",
       "        vertical-align: middle;\n",
       "    }\n",
       "\n",
       "    .dataframe tbody tr th {\n",
       "        vertical-align: top;\n",
       "    }\n",
       "\n",
       "    .dataframe thead th {\n",
       "        text-align: right;\n",
       "    }\n",
       "</style>\n",
       "<table border=\"1\" class=\"dataframe\">\n",
       "  <thead>\n",
       "    <tr style=\"text-align: right;\">\n",
       "      <th></th>\n",
       "      <th>datetime</th>\n",
       "    </tr>\n",
       "    <tr>\n",
       "      <th>zona</th>\n",
       "      <th></th>\n",
       "    </tr>\n",
       "  </thead>\n",
       "  <tbody>\n",
       "    <tr>\n",
       "      <th>BALERIO ESTACIO</th>\n",
       "      <td>211</td>\n",
       "    </tr>\n",
       "    <tr>\n",
       "      <th>DIVINO NIÑO</th>\n",
       "      <td>166</td>\n",
       "    </tr>\n",
       "    <tr>\n",
       "      <th>PASCUALES (INCLUYE VOTO EN CASA)</th>\n",
       "      <td>163</td>\n",
       "    </tr>\n",
       "    <tr>\n",
       "      <th>EL PARAISO DE LA FLOR</th>\n",
       "      <td>158</td>\n",
       "    </tr>\n",
       "    <tr>\n",
       "      <th>SECAP</th>\n",
       "      <td>147</td>\n",
       "    </tr>\n",
       "    <tr>\n",
       "      <th>SAN FRANCISCO</th>\n",
       "      <td>143</td>\n",
       "    </tr>\n",
       "    <tr>\n",
       "      <th>TARQUI (INCLUYE VOTO EN CASA)</th>\n",
       "      <td>138</td>\n",
       "    </tr>\n",
       "    <tr>\n",
       "      <th>TRINIPUERTO</th>\n",
       "      <td>130</td>\n",
       "    </tr>\n",
       "    <tr>\n",
       "      <th>SN JACINTO DE BUENA FE</th>\n",
       "      <td>127</td>\n",
       "    </tr>\n",
       "    <tr>\n",
       "      <th>CLEMENTE BAQUERIZO (INCLUYE VOTO EN CASA)</th>\n",
       "      <td>124</td>\n",
       "    </tr>\n",
       "  </tbody>\n",
       "</table>\n",
       "</div>"
      ],
      "text/plain": [
       "                                           datetime\n",
       "zona                                               \n",
       "BALERIO ESTACIO                                 211\n",
       "DIVINO NIÑO                                     166\n",
       "PASCUALES (INCLUYE VOTO EN CASA)                163\n",
       "EL PARAISO DE LA FLOR                           158\n",
       "SECAP                                           147\n",
       "SAN FRANCISCO                                   143\n",
       "TARQUI (INCLUYE VOTO EN CASA)                   138\n",
       "TRINIPUERTO                                     130\n",
       "SN JACINTO DE BUENA FE                          127\n",
       "CLEMENTE BAQUERIZO (INCLUYE VOTO EN CASA)       124"
      ]
     },
     "execution_count": 58,
     "metadata": {},
     "output_type": "execute_result"
    }
   ],
   "source": [
    "df.groupby(\"zona\")[\"datetime\"].apply(lambda s: s.dt.date.nunique()).sort_values(ascending=False).head(10).to_frame()"
   ]
  },
  {
   "cell_type": "markdown",
   "id": "e2f2f0e6-9050-4f39-842a-f92e15a08e2a",
   "metadata": {},
   "source": [
    "### Balerio Estacio"
   ]
  },
  {
   "cell_type": "code",
   "execution_count": 59,
   "id": "4c6fbee3-9aac-4c70-b010-6460334bb020",
   "metadata": {},
   "outputs": [
    {
     "data": {
      "text/plain": [
       "211"
      ]
     },
     "execution_count": 59,
     "metadata": {},
     "output_type": "execute_result"
    }
   ],
   "source": [
    "#Number of dates with at least one murder in cluster 30\n",
    "df[df[\"zona\"] == \"BALERIO ESTACIO\"][\"datetime\"].dt.date.nunique()"
   ]
  },
  {
   "cell_type": "code",
   "execution_count": 60,
   "id": "16cdf783-a0c5-476a-ba7a-dd44e295e8ab",
   "metadata": {
    "scrolled": true
   },
   "outputs": [
    {
     "data": {
      "text/plain": [
       "0.2395005675368899"
      ]
     },
     "execution_count": 60,
     "metadata": {},
     "output_type": "execute_result"
    }
   ],
   "source": [
    "211/881 #881 is the number of days between Jan 1, 2023 and May 31, 2025"
   ]
  },
  {
   "cell_type": "code",
   "execution_count": 61,
   "id": "2c2354db-be24-4cc6-916d-7c747ed4a1a4",
   "metadata": {
    "scrolled": true
   },
   "outputs": [
    {
     "data": {
      "text/plain": [
       "datetime\n",
       "2024-06-01    7\n",
       "2023-03-31    5\n",
       "2023-06-27    5\n",
       "2025-03-03    5\n",
       "2024-05-09    4\n",
       "Name: count, dtype: int64"
      ]
     },
     "execution_count": 61,
     "metadata": {},
     "output_type": "execute_result"
    }
   ],
   "source": [
    "df[df[\"zona\"] == \"BALERIO ESTACIO\"][\"datetime\"].dt.date.value_counts().head() #To check if there were matanzas"
   ]
  },
  {
   "cell_type": "code",
   "execution_count": 62,
   "id": "98a5ef42-6ae1-4418-8042-26b1fe65ff40",
   "metadata": {
    "scrolled": true
   },
   "outputs": [
    {
     "data": {
      "text/plain": [
       "datetime\n",
       "2025-03    19\n",
       "2024-06    18\n",
       "2025-01    18\n",
       "2023-06    16\n",
       "2024-10    15\n",
       "Freq: M, Name: count, dtype: int64"
      ]
     },
     "execution_count": 62,
     "metadata": {},
     "output_type": "execute_result"
    }
   ],
   "source": [
    "df[df[\"zona\"] == \"BALERIO ESTACIO\"][\"datetime\"].dt.to_period(\"M\").value_counts().head()"
   ]
  },
  {
   "cell_type": "code",
   "execution_count": 63,
   "id": "db10e6f6-0e4f-4e81-86ec-4aef28e0961f",
   "metadata": {},
   "outputs": [
    {
     "name": "stdout",
     "output_type": "stream",
     "text": [
      "Longest streak length: 4 days\n",
      "Dates: 2024-11-09 – 2024-11-12\n"
     ]
    }
   ],
   "source": [
    "balerio = df[df[\"zona\"] == \"BALERIO ESTACIO\"].copy()\n",
    "balerio['date'] = pd.to_datetime(balerio['datetime']).dt.date\n",
    "\n",
    "unique_dates = balerio['date'].drop_duplicates().sort_values().reset_index(drop=True)\n",
    "\n",
    "length, dates = longest_consecutive_streak(unique_dates)\n",
    "\n",
    "print(f\"Longest streak length: {length} days\")\n",
    "print(f\"Dates: {dates[0]} – {dates[-1]}\")"
   ]
  },
  {
   "cell_type": "markdown",
   "id": "91411172-187b-4d75-8927-466813cc8a7f",
   "metadata": {},
   "source": [
    "### Secap"
   ]
  },
  {
   "cell_type": "code",
   "execution_count": 64,
   "id": "6dab7d43-66fc-4d8f-8d6b-79480205a057",
   "metadata": {},
   "outputs": [
    {
     "data": {
      "text/plain": [
       "147"
      ]
     },
     "execution_count": 64,
     "metadata": {},
     "output_type": "execute_result"
    }
   ],
   "source": [
    "#Number of dates with at least one murder in cluster 30\n",
    "df[df[\"zona\"] == \"SECAP\"][\"datetime\"].dt.date.nunique()"
   ]
  },
  {
   "cell_type": "code",
   "execution_count": 65,
   "id": "5d11d31a-7eb6-4af2-a67d-9fe32540dd20",
   "metadata": {
    "scrolled": true
   },
   "outputs": [
    {
     "data": {
      "text/plain": [
       "0.16685584562996594"
      ]
     },
     "execution_count": 65,
     "metadata": {},
     "output_type": "execute_result"
    }
   ],
   "source": [
    "147/881 #881 is the number of days between Jan 1, 2023 and May 31, 2025"
   ]
  },
  {
   "cell_type": "code",
   "execution_count": 66,
   "id": "d346147a-f36d-4b52-8cee-b99ec207dd7d",
   "metadata": {
    "scrolled": true
   },
   "outputs": [
    {
     "data": {
      "text/plain": [
       "datetime\n",
       "2024-10-12    8\n",
       "2025-03-04    8\n",
       "2023-12-31    8\n",
       "2023-11-11    7\n",
       "2023-12-21    7\n",
       "Name: count, dtype: int64"
      ]
     },
     "execution_count": 66,
     "metadata": {},
     "output_type": "execute_result"
    }
   ],
   "source": [
    "df[df[\"zona\"] == \"SECAP\"][\"datetime\"].dt.date.value_counts().head() #To check if there were matanzas"
   ]
  },
  {
   "cell_type": "code",
   "execution_count": 67,
   "id": "24588ff5-a354-40d2-b3b4-0285796d0f2d",
   "metadata": {
    "scrolled": true
   },
   "outputs": [
    {
     "data": {
      "text/plain": [
       "datetime\n",
       "2025-03    30\n",
       "2025-02    26\n",
       "2023-12    25\n",
       "2025-04    23\n",
       "2023-10    19\n",
       "Freq: M, Name: count, dtype: int64"
      ]
     },
     "execution_count": 67,
     "metadata": {},
     "output_type": "execute_result"
    }
   ],
   "source": [
    "df[df[\"zona\"] == \"SECAP\"][\"datetime\"].dt.to_period(\"M\").value_counts().head()"
   ]
  },
  {
   "cell_type": "code",
   "execution_count": 72,
   "id": "d97bed50-d9d5-4fbf-8c8b-9194135a35cc",
   "metadata": {},
   "outputs": [
    {
     "name": "stdout",
     "output_type": "stream",
     "text": [
      "Longest streak length: 7 days\n",
      "Dates: 2025-02-18 – 2025-02-24\n"
     ]
    }
   ],
   "source": [
    "secap = df[df[\"zona\"] == \"SECAP\"].copy()\n",
    "secap['date'] = pd.to_datetime(secap['datetime']).dt.date\n",
    "\n",
    "unique_dates = secap['date'].drop_duplicates().sort_values().reset_index(drop=True)\n",
    "\n",
    "length, dates = longest_consecutive_streak(unique_dates)\n",
    "\n",
    "print(f\"Longest streak length: {length} days\")\n",
    "print(f\"Dates: {dates[0]} – {dates[-1]}\")"
   ]
  },
  {
   "cell_type": "code",
   "execution_count": 69,
   "id": "699c5131-74c8-4cb6-aa96-a6d4f0e6b04a",
   "metadata": {},
   "outputs": [],
   "source": [
    "parishes = parishes.to_crs(epsg=32717)\n",
    "parishes[\"area_km2\"] = parishes.geometry.area / 1e6"
   ]
  },
  {
   "cell_type": "code",
   "execution_count": 70,
   "id": "35261915-e1f5-49bf-ad1f-518077ee8aa1",
   "metadata": {},
   "outputs": [],
   "source": [
    "electoral_zones = electoral_zones.to_crs(epsg=32717)\n",
    "electoral_zones[\"area_km2\"] = electoral_zones.geometry.area / 1e6"
   ]
  },
  {
   "cell_type": "code",
   "execution_count": 71,
   "id": "ebbed885-5ae3-46d6-8ac2-b49f6057fefc",
   "metadata": {},
   "outputs": [
    {
     "ename": "KeyError",
     "evalue": "'parroquia'",
     "output_type": "error",
     "traceback": [
      "\u001b[31m---------------------------------------------------------------------------\u001b[39m",
      "\u001b[31mKeyError\u001b[39m                                  Traceback (most recent call last)",
      "\u001b[36mFile \u001b[39m\u001b[32m~/.pyenv/versions/3.12.10/lib/python3.12/site-packages/pandas/core/indexes/base.py:3812\u001b[39m, in \u001b[36mIndex.get_loc\u001b[39m\u001b[34m(self, key)\u001b[39m\n\u001b[32m   3811\u001b[39m \u001b[38;5;28;01mtry\u001b[39;00m:\n\u001b[32m-> \u001b[39m\u001b[32m3812\u001b[39m     \u001b[38;5;28;01mreturn\u001b[39;00m \u001b[38;5;28;43mself\u001b[39;49m\u001b[43m.\u001b[49m\u001b[43m_engine\u001b[49m\u001b[43m.\u001b[49m\u001b[43mget_loc\u001b[49m\u001b[43m(\u001b[49m\u001b[43mcasted_key\u001b[49m\u001b[43m)\u001b[49m\n\u001b[32m   3813\u001b[39m \u001b[38;5;28;01mexcept\u001b[39;00m \u001b[38;5;167;01mKeyError\u001b[39;00m \u001b[38;5;28;01mas\u001b[39;00m err:\n",
      "\u001b[36mFile \u001b[39m\u001b[32mpandas/_libs/index.pyx:167\u001b[39m, in \u001b[36mpandas._libs.index.IndexEngine.get_loc\u001b[39m\u001b[34m()\u001b[39m\n",
      "\u001b[36mFile \u001b[39m\u001b[32mpandas/_libs/index.pyx:196\u001b[39m, in \u001b[36mpandas._libs.index.IndexEngine.get_loc\u001b[39m\u001b[34m()\u001b[39m\n",
      "\u001b[36mFile \u001b[39m\u001b[32mpandas/_libs/hashtable_class_helper.pxi:7088\u001b[39m, in \u001b[36mpandas._libs.hashtable.PyObjectHashTable.get_item\u001b[39m\u001b[34m()\u001b[39m\n",
      "\u001b[36mFile \u001b[39m\u001b[32mpandas/_libs/hashtable_class_helper.pxi:7096\u001b[39m, in \u001b[36mpandas._libs.hashtable.PyObjectHashTable.get_item\u001b[39m\u001b[34m()\u001b[39m\n",
      "\u001b[31mKeyError\u001b[39m: 'parroquia'",
      "\nThe above exception was the direct cause of the following exception:\n",
      "\u001b[31mKeyError\u001b[39m                                  Traceback (most recent call last)",
      "\u001b[36mCell\u001b[39m\u001b[36m \u001b[39m\u001b[32mIn[71]\u001b[39m\u001b[32m, line 1\u001b[39m\n\u001b[32m----> \u001b[39m\u001b[32m1\u001b[39m parishes[\u001b[43mparishes\u001b[49m\u001b[43m[\u001b[49m\u001b[33;43m\"\u001b[39;49m\u001b[33;43mparroquia\u001b[39;49m\u001b[33;43m\"\u001b[39;49m\u001b[43m]\u001b[49m == \u001b[33m\"\u001b[39m\u001b[33mPASCUALES\u001b[39m\u001b[33m\"\u001b[39m]\n",
      "\u001b[36mFile \u001b[39m\u001b[32m~/.pyenv/versions/3.12.10/lib/python3.12/site-packages/geopandas/geodataframe.py:1910\u001b[39m, in \u001b[36mGeoDataFrame.__getitem__\u001b[39m\u001b[34m(self, key)\u001b[39m\n\u001b[32m   1904\u001b[39m \u001b[38;5;28;01mdef\u001b[39;00m\u001b[38;5;250m \u001b[39m\u001b[34m__getitem__\u001b[39m(\u001b[38;5;28mself\u001b[39m, key):\n\u001b[32m   1905\u001b[39m \u001b[38;5;250m    \u001b[39m\u001b[33;03m\"\"\"\u001b[39;00m\n\u001b[32m   1906\u001b[39m \u001b[33;03m    If the result is a column containing only 'geometry', return a\u001b[39;00m\n\u001b[32m   1907\u001b[39m \u001b[33;03m    GeoSeries. If it's a DataFrame with any columns of GeometryDtype,\u001b[39;00m\n\u001b[32m   1908\u001b[39m \u001b[33;03m    return a GeoDataFrame.\u001b[39;00m\n\u001b[32m   1909\u001b[39m \u001b[33;03m    \"\"\"\u001b[39;00m\n\u001b[32m-> \u001b[39m\u001b[32m1910\u001b[39m     result = \u001b[38;5;28;43msuper\u001b[39;49m\u001b[43m(\u001b[49m\u001b[43m)\u001b[49m\u001b[43m.\u001b[49m\u001b[34;43m__getitem__\u001b[39;49m\u001b[43m(\u001b[49m\u001b[43mkey\u001b[49m\u001b[43m)\u001b[49m\n\u001b[32m   1911\u001b[39m     \u001b[38;5;66;03m# Custom logic to avoid waiting for pandas GH51895\u001b[39;00m\n\u001b[32m   1912\u001b[39m     \u001b[38;5;66;03m# result is not geometry dtype for multi-indexes\u001b[39;00m\n\u001b[32m   1913\u001b[39m     \u001b[38;5;28;01mif\u001b[39;00m (\n\u001b[32m   1914\u001b[39m         pd.api.types.is_scalar(key)\n\u001b[32m   1915\u001b[39m         \u001b[38;5;129;01mand\u001b[39;00m key == \u001b[33m\"\u001b[39m\u001b[33m\"\u001b[39m\n\u001b[32m   (...)\u001b[39m\u001b[32m   1918\u001b[39m         \u001b[38;5;129;01mand\u001b[39;00m \u001b[38;5;129;01mnot\u001b[39;00m is_geometry_type(result)\n\u001b[32m   1919\u001b[39m     ):\n",
      "\u001b[36mFile \u001b[39m\u001b[32m~/.pyenv/versions/3.12.10/lib/python3.12/site-packages/pandas/core/frame.py:4107\u001b[39m, in \u001b[36mDataFrame.__getitem__\u001b[39m\u001b[34m(self, key)\u001b[39m\n\u001b[32m   4105\u001b[39m \u001b[38;5;28;01mif\u001b[39;00m \u001b[38;5;28mself\u001b[39m.columns.nlevels > \u001b[32m1\u001b[39m:\n\u001b[32m   4106\u001b[39m     \u001b[38;5;28;01mreturn\u001b[39;00m \u001b[38;5;28mself\u001b[39m._getitem_multilevel(key)\n\u001b[32m-> \u001b[39m\u001b[32m4107\u001b[39m indexer = \u001b[38;5;28;43mself\u001b[39;49m\u001b[43m.\u001b[49m\u001b[43mcolumns\u001b[49m\u001b[43m.\u001b[49m\u001b[43mget_loc\u001b[49m\u001b[43m(\u001b[49m\u001b[43mkey\u001b[49m\u001b[43m)\u001b[49m\n\u001b[32m   4108\u001b[39m \u001b[38;5;28;01mif\u001b[39;00m is_integer(indexer):\n\u001b[32m   4109\u001b[39m     indexer = [indexer]\n",
      "\u001b[36mFile \u001b[39m\u001b[32m~/.pyenv/versions/3.12.10/lib/python3.12/site-packages/pandas/core/indexes/base.py:3819\u001b[39m, in \u001b[36mIndex.get_loc\u001b[39m\u001b[34m(self, key)\u001b[39m\n\u001b[32m   3814\u001b[39m     \u001b[38;5;28;01mif\u001b[39;00m \u001b[38;5;28misinstance\u001b[39m(casted_key, \u001b[38;5;28mslice\u001b[39m) \u001b[38;5;129;01mor\u001b[39;00m (\n\u001b[32m   3815\u001b[39m         \u001b[38;5;28misinstance\u001b[39m(casted_key, abc.Iterable)\n\u001b[32m   3816\u001b[39m         \u001b[38;5;129;01mand\u001b[39;00m \u001b[38;5;28many\u001b[39m(\u001b[38;5;28misinstance\u001b[39m(x, \u001b[38;5;28mslice\u001b[39m) \u001b[38;5;28;01mfor\u001b[39;00m x \u001b[38;5;129;01min\u001b[39;00m casted_key)\n\u001b[32m   3817\u001b[39m     ):\n\u001b[32m   3818\u001b[39m         \u001b[38;5;28;01mraise\u001b[39;00m InvalidIndexError(key)\n\u001b[32m-> \u001b[39m\u001b[32m3819\u001b[39m     \u001b[38;5;28;01mraise\u001b[39;00m \u001b[38;5;167;01mKeyError\u001b[39;00m(key) \u001b[38;5;28;01mfrom\u001b[39;00m\u001b[38;5;250m \u001b[39m\u001b[34;01merr\u001b[39;00m\n\u001b[32m   3820\u001b[39m \u001b[38;5;28;01mexcept\u001b[39;00m \u001b[38;5;167;01mTypeError\u001b[39;00m:\n\u001b[32m   3821\u001b[39m     \u001b[38;5;66;03m# If we have a listlike key, _check_indexing_error will raise\u001b[39;00m\n\u001b[32m   3822\u001b[39m     \u001b[38;5;66;03m#  InvalidIndexError. Otherwise we fall through and re-raise\u001b[39;00m\n\u001b[32m   3823\u001b[39m     \u001b[38;5;66;03m#  the TypeError.\u001b[39;00m\n\u001b[32m   3824\u001b[39m     \u001b[38;5;28mself\u001b[39m._check_indexing_error(key)\n",
      "\u001b[31mKeyError\u001b[39m: 'parroquia'"
     ]
    }
   ],
   "source": [
    "parishes[parishes[\"parroquia\"] == \"PASCUALES\"]"
   ]
  },
  {
   "cell_type": "code",
   "execution_count": null,
   "id": "4fffbe38-1fbc-4403-8d86-6ee605be239f",
   "metadata": {},
   "outputs": [],
   "source": [
    "parishes[parishes[\"parroquia\"] == \"DIVINO NIÑO\"]"
   ]
  },
  {
   "cell_type": "code",
   "execution_count": null,
   "id": "c9760543-b2b4-48e7-8295-e32d1843fad0",
   "metadata": {},
   "outputs": [],
   "source": [
    "electoral_zones[electoral_zones[\"zona\"] == \"BALERIO ESTACIO\"]"
   ]
  },
  {
   "cell_type": "code",
   "execution_count": null,
   "id": "2582ad23-1002-479e-8328-4a7e5a0c39d6",
   "metadata": {},
   "outputs": [],
   "source": [
    "electoral_zones[electoral_zones[\"zona\"] == \"SECAP\"]"
   ]
  },
  {
   "cell_type": "code",
   "execution_count": null,
   "id": "ef95bc25-8539-4776-ba8d-ca350614680f",
   "metadata": {},
   "outputs": [],
   "source": []
  }
 ],
 "metadata": {
  "kernelspec": {
   "display_name": "Python 3 (ipykernel)",
   "language": "python",
   "name": "python3"
  },
  "language_info": {
   "codemirror_mode": {
    "name": "ipython",
    "version": 3
   },
   "file_extension": ".py",
   "mimetype": "text/x-python",
   "name": "python",
   "nbconvert_exporter": "python",
   "pygments_lexer": "ipython3",
   "version": "3.12.10"
  }
 },
 "nbformat": 4,
 "nbformat_minor": 5
}
